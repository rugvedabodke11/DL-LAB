{
 "cells": [
  {
   "cell_type": "code",
   "execution_count": null,
   "metadata": {
    "id": "sUceQ_ll-jyG"
   },
   "outputs": [],
   "source": [
    "import pandas as pd\n",
    "import numpy as np\n",
    "import tensorflow as tf\n",
    "from tensorflow import keras\n",
    "from tensorflow.keras import layers,models\n",
    "from sklearn.model_selection import train_test_split\n",
    "from sklearn.preprocessing import StandardScaler"
   ]
  },
  {
   "cell_type": "code",
   "execution_count": null,
   "metadata": {
    "id": "NZf8y0Fh-wUu"
   },
   "outputs": [],
   "source": [
    "df=pd.read_csv('/diabetes1.csv')"
   ]
  },
  {
   "cell_type": "code",
   "execution_count": null,
   "metadata": {
    "colab": {
     "base_uri": "https://localhost:8080/",
     "height": 269
    },
    "id": "ALQeIZHA_Uvs",
    "outputId": "11ce513b-2088-4971-a964-8d2d7bf79e07"
   },
   "outputs": [
    {
     "data": {
      "text/html": [
       "\n",
       "  <div id=\"df-a4514665-96e5-4193-8ef9-cd4df089715e\">\n",
       "    <div class=\"colab-df-container\">\n",
       "      <div>\n",
       "<style scoped>\n",
       "    .dataframe tbody tr th:only-of-type {\n",
       "        vertical-align: middle;\n",
       "    }\n",
       "\n",
       "    .dataframe tbody tr th {\n",
       "        vertical-align: top;\n",
       "    }\n",
       "\n",
       "    .dataframe thead th {\n",
       "        text-align: right;\n",
       "    }\n",
       "</style>\n",
       "<table border=\"1\" class=\"dataframe\">\n",
       "  <thead>\n",
       "    <tr style=\"text-align: right;\">\n",
       "      <th></th>\n",
       "      <th>Pregnancies</th>\n",
       "      <th>Glucose</th>\n",
       "      <th>BloodPressure</th>\n",
       "      <th>SkinThickness</th>\n",
       "      <th>Insulin</th>\n",
       "      <th>BMI</th>\n",
       "      <th>DiabetesPedigreeFunction</th>\n",
       "      <th>Age</th>\n",
       "      <th>Outcome</th>\n",
       "    </tr>\n",
       "  </thead>\n",
       "  <tbody>\n",
       "    <tr>\n",
       "      <th>0</th>\n",
       "      <td>6</td>\n",
       "      <td>148</td>\n",
       "      <td>72</td>\n",
       "      <td>35</td>\n",
       "      <td>0</td>\n",
       "      <td>33.6</td>\n",
       "      <td>0.627</td>\n",
       "      <td>50</td>\n",
       "      <td>1</td>\n",
       "    </tr>\n",
       "    <tr>\n",
       "      <th>1</th>\n",
       "      <td>1</td>\n",
       "      <td>85</td>\n",
       "      <td>66</td>\n",
       "      <td>29</td>\n",
       "      <td>0</td>\n",
       "      <td>26.6</td>\n",
       "      <td>0.351</td>\n",
       "      <td>31</td>\n",
       "      <td>0</td>\n",
       "    </tr>\n",
       "    <tr>\n",
       "      <th>2</th>\n",
       "      <td>8</td>\n",
       "      <td>183</td>\n",
       "      <td>64</td>\n",
       "      <td>0</td>\n",
       "      <td>0</td>\n",
       "      <td>23.3</td>\n",
       "      <td>0.672</td>\n",
       "      <td>32</td>\n",
       "      <td>1</td>\n",
       "    </tr>\n",
       "    <tr>\n",
       "      <th>3</th>\n",
       "      <td>1</td>\n",
       "      <td>89</td>\n",
       "      <td>66</td>\n",
       "      <td>23</td>\n",
       "      <td>94</td>\n",
       "      <td>28.1</td>\n",
       "      <td>0.167</td>\n",
       "      <td>21</td>\n",
       "      <td>0</td>\n",
       "    </tr>\n",
       "    <tr>\n",
       "      <th>4</th>\n",
       "      <td>0</td>\n",
       "      <td>137</td>\n",
       "      <td>40</td>\n",
       "      <td>35</td>\n",
       "      <td>168</td>\n",
       "      <td>43.1</td>\n",
       "      <td>2.288</td>\n",
       "      <td>33</td>\n",
       "      <td>1</td>\n",
       "    </tr>\n",
       "    <tr>\n",
       "      <th>5</th>\n",
       "      <td>5</td>\n",
       "      <td>116</td>\n",
       "      <td>74</td>\n",
       "      <td>0</td>\n",
       "      <td>0</td>\n",
       "      <td>25.6</td>\n",
       "      <td>0.201</td>\n",
       "      <td>30</td>\n",
       "      <td>0</td>\n",
       "    </tr>\n",
       "    <tr>\n",
       "      <th>6</th>\n",
       "      <td>3</td>\n",
       "      <td>78</td>\n",
       "      <td>50</td>\n",
       "      <td>32</td>\n",
       "      <td>88</td>\n",
       "      <td>31.0</td>\n",
       "      <td>0.248</td>\n",
       "      <td>26</td>\n",
       "      <td>1</td>\n",
       "    </tr>\n",
       "  </tbody>\n",
       "</table>\n",
       "</div>\n",
       "      <button class=\"colab-df-convert\" onclick=\"convertToInteractive('df-a4514665-96e5-4193-8ef9-cd4df089715e')\"\n",
       "              title=\"Convert this dataframe to an interactive table.\"\n",
       "              style=\"display:none;\">\n",
       "        \n",
       "  <svg xmlns=\"http://www.w3.org/2000/svg\" height=\"24px\"viewBox=\"0 0 24 24\"\n",
       "       width=\"24px\">\n",
       "    <path d=\"M0 0h24v24H0V0z\" fill=\"none\"/>\n",
       "    <path d=\"M18.56 5.44l.94 2.06.94-2.06 2.06-.94-2.06-.94-.94-2.06-.94 2.06-2.06.94zm-11 1L8.5 8.5l.94-2.06 2.06-.94-2.06-.94L8.5 2.5l-.94 2.06-2.06.94zm10 10l.94 2.06.94-2.06 2.06-.94-2.06-.94-.94-2.06-.94 2.06-2.06.94z\"/><path d=\"M17.41 7.96l-1.37-1.37c-.4-.4-.92-.59-1.43-.59-.52 0-1.04.2-1.43.59L10.3 9.45l-7.72 7.72c-.78.78-.78 2.05 0 2.83L4 21.41c.39.39.9.59 1.41.59.51 0 1.02-.2 1.41-.59l7.78-7.78 2.81-2.81c.8-.78.8-2.07 0-2.86zM5.41 20L4 18.59l7.72-7.72 1.47 1.35L5.41 20z\"/>\n",
       "  </svg>\n",
       "      </button>\n",
       "      \n",
       "  <style>\n",
       "    .colab-df-container {\n",
       "      display:flex;\n",
       "      flex-wrap:wrap;\n",
       "      gap: 12px;\n",
       "    }\n",
       "\n",
       "    .colab-df-convert {\n",
       "      background-color: #E8F0FE;\n",
       "      border: none;\n",
       "      border-radius: 50%;\n",
       "      cursor: pointer;\n",
       "      display: none;\n",
       "      fill: #1967D2;\n",
       "      height: 32px;\n",
       "      padding: 0 0 0 0;\n",
       "      width: 32px;\n",
       "    }\n",
       "\n",
       "    .colab-df-convert:hover {\n",
       "      background-color: #E2EBFA;\n",
       "      box-shadow: 0px 1px 2px rgba(60, 64, 67, 0.3), 0px 1px 3px 1px rgba(60, 64, 67, 0.15);\n",
       "      fill: #174EA6;\n",
       "    }\n",
       "\n",
       "    [theme=dark] .colab-df-convert {\n",
       "      background-color: #3B4455;\n",
       "      fill: #D2E3FC;\n",
       "    }\n",
       "\n",
       "    [theme=dark] .colab-df-convert:hover {\n",
       "      background-color: #434B5C;\n",
       "      box-shadow: 0px 1px 3px 1px rgba(0, 0, 0, 0.15);\n",
       "      filter: drop-shadow(0px 1px 2px rgba(0, 0, 0, 0.3));\n",
       "      fill: #FFFFFF;\n",
       "    }\n",
       "  </style>\n",
       "\n",
       "      <script>\n",
       "        const buttonEl =\n",
       "          document.querySelector('#df-a4514665-96e5-4193-8ef9-cd4df089715e button.colab-df-convert');\n",
       "        buttonEl.style.display =\n",
       "          google.colab.kernel.accessAllowed ? 'block' : 'none';\n",
       "\n",
       "        async function convertToInteractive(key) {\n",
       "          const element = document.querySelector('#df-a4514665-96e5-4193-8ef9-cd4df089715e');\n",
       "          const dataTable =\n",
       "            await google.colab.kernel.invokeFunction('convertToInteractive',\n",
       "                                                     [key], {});\n",
       "          if (!dataTable) return;\n",
       "\n",
       "          const docLinkHtml = 'Like what you see? Visit the ' +\n",
       "            '<a target=\"_blank\" href=https://colab.research.google.com/notebooks/data_table.ipynb>data table notebook</a>'\n",
       "            + ' to learn more about interactive tables.';\n",
       "          element.innerHTML = '';\n",
       "          dataTable['output_type'] = 'display_data';\n",
       "          await google.colab.output.renderOutput(dataTable, element);\n",
       "          const docLink = document.createElement('div');\n",
       "          docLink.innerHTML = docLinkHtml;\n",
       "          element.appendChild(docLink);\n",
       "        }\n",
       "      </script>\n",
       "    </div>\n",
       "  </div>\n",
       "  "
      ],
      "text/plain": [
       "   Pregnancies  Glucose  BloodPressure  SkinThickness  Insulin   BMI  \\\n",
       "0            6      148             72             35        0  33.6   \n",
       "1            1       85             66             29        0  26.6   \n",
       "2            8      183             64              0        0  23.3   \n",
       "3            1       89             66             23       94  28.1   \n",
       "4            0      137             40             35      168  43.1   \n",
       "5            5      116             74              0        0  25.6   \n",
       "6            3       78             50             32       88  31.0   \n",
       "\n",
       "   DiabetesPedigreeFunction  Age  Outcome  \n",
       "0                     0.627   50        1  \n",
       "1                     0.351   31        0  \n",
       "2                     0.672   32        1  \n",
       "3                     0.167   21        0  \n",
       "4                     2.288   33        1  \n",
       "5                     0.201   30        0  \n",
       "6                     0.248   26        1  "
      ]
     },
     "execution_count": 18,
     "metadata": {},
     "output_type": "execute_result"
    }
   ],
   "source": [
    "df.head(7)"
   ]
  },
  {
   "cell_type": "code",
   "execution_count": null,
   "metadata": {
    "id": "GjSC10mH_LOF"
   },
   "outputs": [],
   "source": [
    "x=df.iloc[:,0:8]\n",
    "y=df[\"Outcome\"]"
   ]
  },
  {
   "cell_type": "code",
   "execution_count": null,
   "metadata": {
    "id": "4ZAG_BTw_WcE"
   },
   "outputs": [],
   "source": [
    "obj=StandardScaler()\n",
    "x_=obj.fit_transform(x)"
   ]
  },
  {
   "cell_type": "code",
   "execution_count": null,
   "metadata": {
    "id": "eNt2mguN_bus"
   },
   "outputs": [],
   "source": [
    "Xtrain,Xtest,Ytrain,Ytest=train_test_split(x_,y,test_size=0.1)"
   ]
  },
  {
   "cell_type": "code",
   "execution_count": null,
   "metadata": {
    "id": "RUxRrfqd_fFV"
   },
   "outputs": [],
   "source": [
    "model=models.Sequential()\n",
    "model.add(layers.Dense(100,activation=\"relu\"))\n",
    "#model.add(layers.Dense(75,activation=\"relu\"))\n",
    "model.add(layers.Dense(50,activation=\"relu\"))\n",
    "#model.add(layers.Dense(25,activation=\"relu\"))\n",
    "model.add(layers.Dense(12,activation=\"relu\"))\n",
    "model.add(layers.Dense(8,activation=\"relu\"))\n",
    "model.add(layers.Dense(1,activation=\"sigmoid\"))"
   ]
  },
  {
   "cell_type": "code",
   "execution_count": null,
   "metadata": {
    "id": "-4SQB9up_iTw"
   },
   "outputs": [],
   "source": [
    "model.compile(optimizer=\"adam\",loss=\"binary_crossentropy\",metrics=[\"accuracy\"])"
   ]
  },
  {
   "cell_type": "code",
   "execution_count": null,
   "metadata": {
    "colab": {
     "base_uri": "https://localhost:8080/"
    },
    "id": "BP05D7d2_lZJ",
    "outputId": "fc8a19ff-3ae0-454a-f405-bb001867fad4"
   },
   "outputs": [
    {
     "name": "stdout",
     "output_type": "stream",
     "text": [
      "Epoch 1/50\n",
      "22/22 [==============================] - 1s 13ms/step - loss: 0.6642 - accuracy: 0.6281 - val_loss: 0.6043 - val_accuracy: 0.7143\n",
      "Epoch 2/50\n",
      "22/22 [==============================] - 0s 3ms/step - loss: 0.5525 - accuracy: 0.7685 - val_loss: 0.5357 - val_accuracy: 0.7013\n",
      "Epoch 3/50\n",
      "22/22 [==============================] - 0s 3ms/step - loss: 0.4758 - accuracy: 0.7873 - val_loss: 0.5445 - val_accuracy: 0.7013\n",
      "Epoch 4/50\n",
      "22/22 [==============================] - 0s 3ms/step - loss: 0.4481 - accuracy: 0.7902 - val_loss: 0.5620 - val_accuracy: 0.6883\n",
      "Epoch 5/50\n",
      "22/22 [==============================] - 0s 4ms/step - loss: 0.4348 - accuracy: 0.7844 - val_loss: 0.5465 - val_accuracy: 0.7143\n",
      "Epoch 6/50\n",
      "22/22 [==============================] - 0s 4ms/step - loss: 0.4251 - accuracy: 0.7974 - val_loss: 0.5487 - val_accuracy: 0.7143\n",
      "Epoch 7/50\n",
      "22/22 [==============================] - 0s 3ms/step - loss: 0.4165 - accuracy: 0.7959 - val_loss: 0.5571 - val_accuracy: 0.7013\n",
      "Epoch 8/50\n",
      "22/22 [==============================] - 0s 3ms/step - loss: 0.4106 - accuracy: 0.8075 - val_loss: 0.5659 - val_accuracy: 0.7013\n",
      "Epoch 9/50\n",
      "22/22 [==============================] - 0s 4ms/step - loss: 0.4021 - accuracy: 0.8061 - val_loss: 0.5531 - val_accuracy: 0.7273\n",
      "Epoch 10/50\n",
      "22/22 [==============================] - 0s 3ms/step - loss: 0.3958 - accuracy: 0.8104 - val_loss: 0.5629 - val_accuracy: 0.7273\n",
      "Epoch 11/50\n",
      "22/22 [==============================] - 0s 4ms/step - loss: 0.3958 - accuracy: 0.8133 - val_loss: 0.5643 - val_accuracy: 0.7143\n",
      "Epoch 12/50\n",
      "22/22 [==============================] - 0s 3ms/step - loss: 0.3874 - accuracy: 0.8104 - val_loss: 0.5800 - val_accuracy: 0.7013\n",
      "Epoch 13/50\n",
      "22/22 [==============================] - 0s 3ms/step - loss: 0.3803 - accuracy: 0.8177 - val_loss: 0.5802 - val_accuracy: 0.7273\n",
      "Epoch 14/50\n",
      "22/22 [==============================] - 0s 4ms/step - loss: 0.3710 - accuracy: 0.8191 - val_loss: 0.5781 - val_accuracy: 0.7273\n",
      "Epoch 15/50\n",
      "22/22 [==============================] - 0s 3ms/step - loss: 0.3656 - accuracy: 0.8394 - val_loss: 0.6153 - val_accuracy: 0.6753\n",
      "Epoch 16/50\n",
      "22/22 [==============================] - 0s 3ms/step - loss: 0.3622 - accuracy: 0.8191 - val_loss: 0.6044 - val_accuracy: 0.7143\n",
      "Epoch 17/50\n",
      "22/22 [==============================] - 0s 3ms/step - loss: 0.3555 - accuracy: 0.8379 - val_loss: 0.5952 - val_accuracy: 0.7273\n",
      "Epoch 18/50\n",
      "22/22 [==============================] - 0s 3ms/step - loss: 0.3483 - accuracy: 0.8350 - val_loss: 0.6041 - val_accuracy: 0.7273\n",
      "Epoch 19/50\n",
      "22/22 [==============================] - 0s 3ms/step - loss: 0.3452 - accuracy: 0.8423 - val_loss: 0.6153 - val_accuracy: 0.7532\n",
      "Epoch 20/50\n",
      "22/22 [==============================] - 0s 4ms/step - loss: 0.3433 - accuracy: 0.8408 - val_loss: 0.6194 - val_accuracy: 0.7143\n",
      "Epoch 21/50\n",
      "22/22 [==============================] - 0s 4ms/step - loss: 0.3353 - accuracy: 0.8495 - val_loss: 0.6292 - val_accuracy: 0.7403\n",
      "Epoch 22/50\n",
      "22/22 [==============================] - 0s 4ms/step - loss: 0.3301 - accuracy: 0.8596 - val_loss: 0.6227 - val_accuracy: 0.7143\n",
      "Epoch 23/50\n",
      "22/22 [==============================] - 0s 3ms/step - loss: 0.3198 - accuracy: 0.8538 - val_loss: 0.6573 - val_accuracy: 0.6753\n",
      "Epoch 24/50\n",
      "22/22 [==============================] - 0s 4ms/step - loss: 0.3129 - accuracy: 0.8611 - val_loss: 0.6275 - val_accuracy: 0.7403\n",
      "Epoch 25/50\n",
      "22/22 [==============================] - 0s 4ms/step - loss: 0.3009 - accuracy: 0.8712 - val_loss: 0.6608 - val_accuracy: 0.7143\n",
      "Epoch 26/50\n",
      "22/22 [==============================] - 0s 5ms/step - loss: 0.2947 - accuracy: 0.8669 - val_loss: 0.6707 - val_accuracy: 0.7013\n",
      "Epoch 27/50\n",
      "22/22 [==============================] - 0s 4ms/step - loss: 0.2933 - accuracy: 0.8712 - val_loss: 0.7290 - val_accuracy: 0.6623\n",
      "Epoch 28/50\n",
      "22/22 [==============================] - 0s 3ms/step - loss: 0.2982 - accuracy: 0.8582 - val_loss: 0.6929 - val_accuracy: 0.6883\n",
      "Epoch 29/50\n",
      "22/22 [==============================] - 0s 4ms/step - loss: 0.2847 - accuracy: 0.8784 - val_loss: 0.6777 - val_accuracy: 0.7143\n",
      "Epoch 30/50\n",
      "22/22 [==============================] - 0s 3ms/step - loss: 0.2695 - accuracy: 0.8770 - val_loss: 0.7056 - val_accuracy: 0.7403\n",
      "Epoch 31/50\n",
      "22/22 [==============================] - 0s 3ms/step - loss: 0.2901 - accuracy: 0.8669 - val_loss: 0.7011 - val_accuracy: 0.7143\n",
      "Epoch 32/50\n",
      "22/22 [==============================] - 0s 3ms/step - loss: 0.2679 - accuracy: 0.8871 - val_loss: 0.7161 - val_accuracy: 0.7273\n",
      "Epoch 33/50\n",
      "22/22 [==============================] - 0s 3ms/step - loss: 0.2486 - accuracy: 0.8973 - val_loss: 0.7218 - val_accuracy: 0.7273\n",
      "Epoch 34/50\n",
      "22/22 [==============================] - 0s 3ms/step - loss: 0.2575 - accuracy: 0.9045 - val_loss: 0.7531 - val_accuracy: 0.7143\n",
      "Epoch 35/50\n",
      "22/22 [==============================] - 0s 3ms/step - loss: 0.2416 - accuracy: 0.9001 - val_loss: 0.7634 - val_accuracy: 0.7013\n",
      "Epoch 36/50\n",
      "22/22 [==============================] - 0s 3ms/step - loss: 0.2286 - accuracy: 0.9161 - val_loss: 0.7801 - val_accuracy: 0.6883\n",
      "Epoch 37/50\n",
      "22/22 [==============================] - 0s 3ms/step - loss: 0.2338 - accuracy: 0.9030 - val_loss: 0.7777 - val_accuracy: 0.7013\n",
      "Epoch 38/50\n",
      "22/22 [==============================] - 0s 4ms/step - loss: 0.2206 - accuracy: 0.9175 - val_loss: 0.8058 - val_accuracy: 0.7013\n",
      "Epoch 39/50\n",
      "22/22 [==============================] - 0s 3ms/step - loss: 0.2211 - accuracy: 0.9117 - val_loss: 0.8351 - val_accuracy: 0.7143\n",
      "Epoch 40/50\n",
      "22/22 [==============================] - 0s 3ms/step - loss: 0.2195 - accuracy: 0.9030 - val_loss: 0.8883 - val_accuracy: 0.6753\n",
      "Epoch 41/50\n",
      "22/22 [==============================] - 0s 3ms/step - loss: 0.2093 - accuracy: 0.9262 - val_loss: 0.8626 - val_accuracy: 0.7143\n",
      "Epoch 42/50\n",
      "22/22 [==============================] - 0s 3ms/step - loss: 0.2077 - accuracy: 0.9132 - val_loss: 0.8128 - val_accuracy: 0.6883\n",
      "Epoch 43/50\n",
      "22/22 [==============================] - 0s 3ms/step - loss: 0.1894 - accuracy: 0.9363 - val_loss: 0.8911 - val_accuracy: 0.7013\n",
      "Epoch 44/50\n",
      "22/22 [==============================] - 0s 3ms/step - loss: 0.1795 - accuracy: 0.9320 - val_loss: 0.8835 - val_accuracy: 0.7013\n",
      "Epoch 45/50\n",
      "22/22 [==============================] - 0s 3ms/step - loss: 0.1773 - accuracy: 0.9407 - val_loss: 0.9140 - val_accuracy: 0.6883\n",
      "Epoch 46/50\n",
      "22/22 [==============================] - 0s 4ms/step - loss: 0.1740 - accuracy: 0.9349 - val_loss: 0.9482 - val_accuracy: 0.7013\n",
      "Epoch 47/50\n",
      "22/22 [==============================] - 0s 4ms/step - loss: 0.1725 - accuracy: 0.9363 - val_loss: 0.9267 - val_accuracy: 0.7013\n",
      "Epoch 48/50\n",
      "22/22 [==============================] - 0s 3ms/step - loss: 0.1574 - accuracy: 0.9363 - val_loss: 0.9756 - val_accuracy: 0.6753\n",
      "Epoch 49/50\n",
      "22/22 [==============================] - 0s 3ms/step - loss: 0.1565 - accuracy: 0.9522 - val_loss: 0.9697 - val_accuracy: 0.7143\n",
      "Epoch 50/50\n",
      "22/22 [==============================] - 0s 3ms/step - loss: 0.1442 - accuracy: 0.9551 - val_loss: 1.0293 - val_accuracy: 0.6623\n"
     ]
    }
   ],
   "source": [
    "history=model.fit(Xtrain,Ytrain,epochs=50, validation_data=(Xtest,Ytest))"
   ]
  },
  {
   "cell_type": "code",
   "execution_count": null,
   "metadata": {
    "colab": {
     "base_uri": "https://localhost:8080/"
    },
    "id": "T5Ma7_aw_n-f",
    "outputId": "52bda048-1e7a-4eec-9001-1f46da91eb45"
   },
   "outputs": [
    {
     "name": "stdout",
     "output_type": "stream",
     "text": [
      "3/3 [==============================] - 0s 4ms/step - loss: 1.0293 - accuracy: 0.6623\n"
     ]
    }
   ],
   "source": [
    "result=model.evaluate(Xtest,Ytest)\n"
   ]
  },
  {
   "cell_type": "code",
   "execution_count": null,
   "metadata": {
    "colab": {
     "base_uri": "https://localhost:8080/",
     "height": 300
    },
    "id": "5mhXAE0__sZM",
    "outputId": "d4311981-9c1e-437a-d2bc-a4ee3880eb80"
   },
   "outputs": [
    {
     "data": {
      "text/plain": [
       "<matplotlib.legend.Legend at 0x7f7abb155fd0>"
      ]
     },
     "execution_count": 26,
     "metadata": {},
     "output_type": "execute_result"
    },
    {
     "data": {
      "image/png": "[encoded data removed]",
      "text/plain": [
       "<Figure size 432x288 with 1 Axes>"
      ]
     },
     "metadata": {
      "needs_background": "light"
     },
     "output_type": "display_data"
    }
   ],
   "source": [
    "import matplotlib.pyplot as plt\n",
    "plt.plot(history.history['loss'], label='loss')\n",
    "#plt.plot(history.history['val_accuracy'], label = 'val_accuracy')\n",
    "plt.xlabel('Epoch')\n",
    "plt.ylabel('loss')\n",
    "plt.ylim([0, 0.8])\n",
    "plt.legend(loc='lower right')"
   ]
  },
  {
   "cell_type": "code",
   "execution_count": null,
   "metadata": {
    "colab": {
     "base_uri": "https://localhost:8080/",
     "height": 318
    },
    "id": "-Rz-rets_0H4",
    "outputId": "015ecead-7677-49e9-867c-55b47ff299af"
   },
   "outputs": [
    {
     "name": "stdout",
     "output_type": "stream",
     "text": [
      "3/3 - 0s - loss: 1.0293 - accuracy: 0.6623 - 18ms/epoch - 6ms/step\n"
     ]
    },
    {
     "data": {
      "text/plain": [
       "[<matplotlib.lines.Line2D at 0x7f7aba46bc10>]"
      ]
     },
     "execution_count": 27,
     "metadata": {},
     "output_type": "execute_result"
    },
    {
     "data": {
      "image/png": "[encoded data removed]",
      "text/plain": [
       "<Figure size 432x288 with 1 Axes>"
      ]
     },
     "metadata": {
      "needs_background": "light"
     },
     "output_type": "display_data"
    }
   ],
   "source": [
    "test_loss, test_acc = model.evaluate(Xtest, Ytest, verbose=2)\n",
    "plt.xlabel('Epoch')\n",
    "plt.ylabel('accuracy')\n",
    "plt.ylim([0.6,1])\n",
    "plt.plot(history.history['accuracy'], label = 'accuracy')"
   ]
  },
  {
   "cell_type": "code",
   "execution_count": null,
   "metadata": {
    "id": "ay6MZd5Fz5lY"
   },
   "outputs": [],
   "source": [
    "Xtrain1,Xtest1,Ytrain1,Ytest1=train_test_split(x_,y,test_size=0.1)"
   ]
  },
  {
   "cell_type": "code",
   "execution_count": null,
   "metadata": {
    "id": "e9vMRH-FqxdB"
   },
   "outputs": [],
   "source": [
    "model1=models.Sequential()\n",
    "model1.add(layers.Dense(100,activation=\"relu\"))\n",
    "#model.add(layers.Dense(75,activation=\"relu\"))\n",
    "model1.add(layers.Dense(50,activation=\"relu\"))\n",
    "#model.add(layers.Dense(25,activation=\"relu\"))\n",
    "model1.add(layers.Dense(12,activation=\"relu\"))\n",
    "model1.add(layers.Dense(8,activation=\"relu\"))\n",
    "model1.add(layers.Dense(1,activation=\"sigmoid\")) "
   ]
  },
  {
   "cell_type": "code",
   "execution_count": null,
   "metadata": {
    "id": "_Vmx-BdFr925"
   },
   "outputs": [],
   "source": [
    "model1.compile(optimizer=\"sgd\",loss=\"binary_crossentropy\",metrics=[\"accuracy\"])"
   ]
  },
  {
   "cell_type": "code",
   "execution_count": null,
   "metadata": {
    "colab": {
     "base_uri": "https://localhost:8080/"
    },
    "id": "VvBkPyO4sULq",
    "outputId": "c325dd74-28ef-43fc-e9ca-83780aa66276"
   },
   "outputs": [
    {
     "name": "stdout",
     "output_type": "stream",
     "text": [
      "Epoch 1/50\n",
      "22/22 [==============================] - 1s 10ms/step - loss: 0.6701 - accuracy: 0.6454 - val_loss: 0.6827 - val_accuracy: 0.5584\n",
      "Epoch 2/50\n",
      "22/22 [==============================] - 0s 3ms/step - loss: 0.6540 - accuracy: 0.6628 - val_loss: 0.6734 - val_accuracy: 0.5584\n",
      "Epoch 3/50\n",
      "22/22 [==============================] - 0s 3ms/step - loss: 0.6404 - accuracy: 0.6614 - val_loss: 0.6662 - val_accuracy: 0.5584\n",
      "Epoch 4/50\n",
      "22/22 [==============================] - 0s 4ms/step - loss: 0.6290 - accuracy: 0.6614 - val_loss: 0.6601 - val_accuracy: 0.5584\n",
      "Epoch 5/50\n",
      "22/22 [==============================] - 0s 3ms/step - loss: 0.6196 - accuracy: 0.6614 - val_loss: 0.6542 - val_accuracy: 0.5584\n",
      "Epoch 6/50\n",
      "22/22 [==============================] - 0s 3ms/step - loss: 0.6111 - accuracy: 0.6614 - val_loss: 0.6482 - val_accuracy: 0.5584\n",
      "Epoch 7/50\n",
      "22/22 [==============================] - 0s 3ms/step - loss: 0.6032 - accuracy: 0.6614 - val_loss: 0.6424 - val_accuracy: 0.5584\n",
      "Epoch 8/50\n",
      "22/22 [==============================] - 0s 3ms/step - loss: 0.5956 - accuracy: 0.6614 - val_loss: 0.6358 - val_accuracy: 0.5584\n",
      "Epoch 9/50\n",
      "22/22 [==============================] - 0s 3ms/step - loss: 0.5882 - accuracy: 0.6614 - val_loss: 0.6288 - val_accuracy: 0.5584\n",
      "Epoch 10/50\n",
      "22/22 [==============================] - 0s 3ms/step - loss: 0.5811 - accuracy: 0.6614 - val_loss: 0.6225 - val_accuracy: 0.5584\n",
      "Epoch 11/50\n",
      "22/22 [==============================] - 0s 3ms/step - loss: 0.5741 - accuracy: 0.6614 - val_loss: 0.6154 - val_accuracy: 0.5584\n",
      "Epoch 12/50\n",
      "22/22 [==============================] - 0s 3ms/step - loss: 0.5672 - accuracy: 0.6614 - val_loss: 0.6088 - val_accuracy: 0.5584\n",
      "Epoch 13/50\n",
      "22/22 [==============================] - 0s 3ms/step - loss: 0.5603 - accuracy: 0.6614 - val_loss: 0.6028 - val_accuracy: 0.5584\n",
      "Epoch 14/50\n",
      "22/22 [==============================] - 0s 3ms/step - loss: 0.5536 - accuracy: 0.6614 - val_loss: 0.5966 - val_accuracy: 0.5584\n",
      "Epoch 15/50\n",
      "22/22 [==============================] - 0s 3ms/step - loss: 0.5472 - accuracy: 0.6614 - val_loss: 0.5906 - val_accuracy: 0.5584\n",
      "Epoch 16/50\n",
      "22/22 [==============================] - 0s 3ms/step - loss: 0.5414 - accuracy: 0.6628 - val_loss: 0.5858 - val_accuracy: 0.5584\n",
      "Epoch 17/50\n",
      "22/22 [==============================] - 0s 3ms/step - loss: 0.5361 - accuracy: 0.6628 - val_loss: 0.5809 - val_accuracy: 0.5584\n",
      "Epoch 18/50\n",
      "22/22 [==============================] - 0s 3ms/step - loss: 0.5308 - accuracy: 0.6628 - val_loss: 0.5759 - val_accuracy: 0.5584\n",
      "Epoch 19/50\n",
      "22/22 [==============================] - 0s 3ms/step - loss: 0.5259 - accuracy: 0.6628 - val_loss: 0.5714 - val_accuracy: 0.5584\n",
      "Epoch 20/50\n",
      "22/22 [==============================] - 0s 3ms/step - loss: 0.5213 - accuracy: 0.6628 - val_loss: 0.5672 - val_accuracy: 0.5584\n",
      "Epoch 21/50\n",
      "22/22 [==============================] - 0s 3ms/step - loss: 0.5172 - accuracy: 0.6628 - val_loss: 0.5633 - val_accuracy: 0.5584\n",
      "Epoch 22/50\n",
      "22/22 [==============================] - 0s 4ms/step - loss: 0.5133 - accuracy: 0.6643 - val_loss: 0.5609 - val_accuracy: 0.5844\n",
      "Epoch 23/50\n",
      "22/22 [==============================] - 0s 3ms/step - loss: 0.5095 - accuracy: 0.6657 - val_loss: 0.5582 - val_accuracy: 0.5974\n",
      "Epoch 24/50\n",
      "22/22 [==============================] - 0s 4ms/step - loss: 0.5063 - accuracy: 0.6686 - val_loss: 0.5560 - val_accuracy: 0.6104\n",
      "Epoch 25/50\n",
      "22/22 [==============================] - 0s 4ms/step - loss: 0.5032 - accuracy: 0.6918 - val_loss: 0.5549 - val_accuracy: 0.6494\n",
      "Epoch 26/50\n",
      "22/22 [==============================] - 0s 3ms/step - loss: 0.5005 - accuracy: 0.7279 - val_loss: 0.5539 - val_accuracy: 0.7143\n",
      "Epoch 27/50\n",
      "22/22 [==============================] - 0s 3ms/step - loss: 0.4980 - accuracy: 0.7453 - val_loss: 0.5526 - val_accuracy: 0.7403\n",
      "Epoch 28/50\n",
      "22/22 [==============================] - 0s 3ms/step - loss: 0.4957 - accuracy: 0.7496 - val_loss: 0.5516 - val_accuracy: 0.7403\n",
      "Epoch 29/50\n",
      "22/22 [==============================] - 0s 3ms/step - loss: 0.4936 - accuracy: 0.7511 - val_loss: 0.5512 - val_accuracy: 0.7403\n",
      "Epoch 30/50\n",
      "22/22 [==============================] - 0s 3ms/step - loss: 0.4916 - accuracy: 0.7511 - val_loss: 0.5504 - val_accuracy: 0.7662\n",
      "Epoch 31/50\n",
      "22/22 [==============================] - 0s 3ms/step - loss: 0.4901 - accuracy: 0.7554 - val_loss: 0.5500 - val_accuracy: 0.7532\n",
      "Epoch 32/50\n",
      "22/22 [==============================] - 0s 3ms/step - loss: 0.4879 - accuracy: 0.7641 - val_loss: 0.5491 - val_accuracy: 0.7532\n",
      "Epoch 33/50\n",
      "22/22 [==============================] - 0s 3ms/step - loss: 0.4862 - accuracy: 0.7641 - val_loss: 0.5489 - val_accuracy: 0.7532\n",
      "Epoch 34/50\n",
      "22/22 [==============================] - 0s 3ms/step - loss: 0.4843 - accuracy: 0.7699 - val_loss: 0.5475 - val_accuracy: 0.7792\n",
      "Epoch 35/50\n",
      "22/22 [==============================] - 0s 3ms/step - loss: 0.4827 - accuracy: 0.7656 - val_loss: 0.5462 - val_accuracy: 0.7792\n",
      "Epoch 36/50\n",
      "22/22 [==============================] - 0s 3ms/step - loss: 0.4809 - accuracy: 0.7713 - val_loss: 0.5461 - val_accuracy: 0.7792\n",
      "Epoch 37/50\n",
      "22/22 [==============================] - 0s 3ms/step - loss: 0.4795 - accuracy: 0.7742 - val_loss: 0.5458 - val_accuracy: 0.7792\n",
      "Epoch 38/50\n",
      "22/22 [==============================] - 0s 3ms/step - loss: 0.4778 - accuracy: 0.7699 - val_loss: 0.5448 - val_accuracy: 0.7792\n",
      "Epoch 39/50\n",
      "22/22 [==============================] - 0s 3ms/step - loss: 0.4764 - accuracy: 0.7699 - val_loss: 0.5445 - val_accuracy: 0.7662\n",
      "Epoch 40/50\n",
      "22/22 [==============================] - 0s 3ms/step - loss: 0.4751 - accuracy: 0.7699 - val_loss: 0.5434 - val_accuracy: 0.7662\n",
      "Epoch 41/50\n",
      "22/22 [==============================] - 0s 3ms/step - loss: 0.4735 - accuracy: 0.7728 - val_loss: 0.5440 - val_accuracy: 0.7662\n",
      "Epoch 42/50\n",
      "22/22 [==============================] - 0s 4ms/step - loss: 0.4723 - accuracy: 0.7771 - val_loss: 0.5436 - val_accuracy: 0.7662\n",
      "Epoch 43/50\n",
      "22/22 [==============================] - 0s 3ms/step - loss: 0.4710 - accuracy: 0.7786 - val_loss: 0.5412 - val_accuracy: 0.7922\n",
      "Epoch 44/50\n",
      "22/22 [==============================] - 0s 3ms/step - loss: 0.4696 - accuracy: 0.7771 - val_loss: 0.5404 - val_accuracy: 0.7922\n",
      "Epoch 45/50\n",
      "22/22 [==============================] - 0s 3ms/step - loss: 0.4684 - accuracy: 0.7771 - val_loss: 0.5399 - val_accuracy: 0.7922\n",
      "Epoch 46/50\n",
      "22/22 [==============================] - 0s 3ms/step - loss: 0.4673 - accuracy: 0.7815 - val_loss: 0.5406 - val_accuracy: 0.7922\n",
      "Epoch 47/50\n",
      "22/22 [==============================] - 0s 3ms/step - loss: 0.4660 - accuracy: 0.7771 - val_loss: 0.5390 - val_accuracy: 0.7922\n",
      "Epoch 48/50\n",
      "22/22 [==============================] - 0s 3ms/step - loss: 0.4647 - accuracy: 0.7786 - val_loss: 0.5376 - val_accuracy: 0.8052\n",
      "Epoch 49/50\n",
      "22/22 [==============================] - 0s 3ms/step - loss: 0.4636 - accuracy: 0.7786 - val_loss: 0.5369 - val_accuracy: 0.8052\n",
      "Epoch 50/50\n",
      "22/22 [==============================] - 0s 3ms/step - loss: 0.4625 - accuracy: 0.7815 - val_loss: 0.5373 - val_accuracy: 0.8052\n"
     ]
    }
   ],
   "source": [
    "history1=model1.fit(Xtrain1,Ytrain1,epochs=50, validation_data=(Xtest1,Ytest1))"
   ]
  },
  {
   "cell_type": "code",
   "execution_count": null,
   "metadata": {
    "colab": {
     "base_uri": "https://localhost:8080/",
     "height": 300
    },
    "id": "DxK2-ahsPdSR",
    "outputId": "07bb5595-85a5-494e-b1fe-52251b85a066"
   },
   "outputs": [
    {
     "data": {
      "text/plain": [
       "<matplotlib.legend.Legend at 0x7f7abda31a10>"
      ]
     },
     "execution_count": 32,
     "metadata": {},
     "output_type": "execute_result"
    },
    {
     "data": {
      "image/png": "[encoded data removed]",
      "text/plain": [
       "<Figure size 432x288 with 1 Axes>"
      ]
     },
     "metadata": {
      "needs_background": "light"
     },
     "output_type": "display_data"
    }
   ],
   "source": [
    "plt.plot(history1.history['loss'], label='loss')\n",
    "#plt.plot(history.history['val_accuracy'], label = 'val_accuracy')\n",
    "plt.xlabel('Epoch')\n",
    "plt.ylabel('loss')\n",
    "plt.ylim([0, 0.8])\n",
    "plt.legend(loc='lower right')"
   ]
  },
  {
   "cell_type": "code",
   "execution_count": null,
   "metadata": {
    "colab": {
     "base_uri": "https://localhost:8080/",
     "height": 318
    },
    "id": "7QXrJf-BQdVc",
    "outputId": "79f137e8-85f8-4668-b855-deb7b0fa5456"
   },
   "outputs": [
    {
     "name": "stdout",
     "output_type": "stream",
     "text": [
      "3/3 - 0s - loss: 1.0293 - accuracy: 0.6623 - 19ms/epoch - 6ms/step\n"
     ]
    },
    {
     "data": {
      "text/plain": [
       "[<matplotlib.lines.Line2D at 0x7f7abd95f490>]"
      ]
     },
     "execution_count": 33,
     "metadata": {},
     "output_type": "execute_result"
    },
    {
     "data": {
      "image/png": "[encoded data removed]",
      "text/plain": [
       "<Figure size 432x288 with 1 Axes>"
      ]
     },
     "metadata": {
      "needs_background": "light"
     },
     "output_type": "display_data"
    }
   ],
   "source": [
    "test_loss, test_acc = model.evaluate(Xtest, Ytest, verbose=2)\n",
    "plt.xlabel('Epoch')\n",
    "plt.ylabel('accuracy')\n",
    "plt.ylim([0.6,1])\n",
    "plt.plot(history1.history['accuracy'], label = 'accuracy')"
   ]
  },
  {
   "cell_type": "code",
   "execution_count": null,
   "metadata": {
    "colab": {
     "base_uri": "https://localhost:8080/"
    },
    "id": "jFpDuXSs1Xne",
    "outputId": "a81b95ba-b744-4892-dd38-8f54105558c7"
   },
   "outputs": [
    {
     "name": "stdout",
     "output_type": "stream",
     "text": [
      "3/3 [==============================] - 0s 4ms/step - loss: 0.5373 - accuracy: 0.8052\n"
     ]
    }
   ],
   "source": [
    "result=model1.evaluate(Xtest1,Ytest1)"
   ]
  },
  {
   "cell_type": "code",
   "execution_count": null,
   "metadata": {
    "colab": {
     "base_uri": "https://localhost:8080/",
     "height": 318
    },
    "id": "JRO_1I2LPybC",
    "outputId": "57eec806-cd87-48fe-c557-be16bf5c99c6"
   },
   "outputs": [
    {
     "name": "stdout",
     "output_type": "stream",
     "text": [
      "3/3 - 0s - loss: 0.5051 - accuracy: 0.7532 - 18ms/epoch - 6ms/step\n"
     ]
    },
    {
     "data": {
      "text/plain": [
       "[<matplotlib.lines.Line2D at 0x7f7abd8f0fd0>]"
      ]
     },
     "execution_count": 35,
     "metadata": {},
     "output_type": "execute_result"
    },
    {
     "data": {
      "image/png": "[encoded data removed]",
      "text/plain": [
       "<Figure size 432x288 with 1 Axes>"
      ]
     },
     "metadata": {
      "needs_background": "light"
     },
     "output_type": "display_data"
    }
   ],
   "source": [
    "test_loss, test_acc = model1.evaluate(Xtest, Ytest, verbose=2)\n",
    "plt.xlabel('Epoch')\n",
    "plt.ylabel('accuracy')\n",
    "plt.ylim([0.6,1])\n",
    "plt.plot(history1.history['accuracy'], label = 'accuracy')"
   ]
  },
  {
   "cell_type": "code",
   "execution_count": null,
   "metadata": {
    "id": "y0C_0Faw0IjU"
   },
   "outputs": [],
   "source": [
    "Xtrain2,Xtest2,Ytrain2,Ytest2=train_test_split(x_,y,test_size=0.1)"
   ]
  },
  {
   "cell_type": "code",
   "execution_count": null,
   "metadata": {
    "id": "RYARoFO_zAnG"
   },
   "outputs": [],
   "source": [
    "model2=models.Sequential()\n",
    "model2.add(layers.Dense(100,activation=\"relu\"))\n",
    "#model.add(layers.Dense(75,activation=\"relu\"))\n",
    "model2.add(layers.Dense(50,activation=\"relu\"))\n",
    "#model.add(layers.Dense(25,activation=\"relu\"))\n",
    "model2.add(layers.Dense(12,activation=\"relu\"))\n",
    "model2.add(layers.Dense(8,activation=\"relu\"))\n",
    "model2.add(layers.Dense(1,activation=\"sigmoid\")) "
   ]
  },
  {
   "cell_type": "code",
   "execution_count": null,
   "metadata": {
    "id": "IhSe0Oh_zLtn"
   },
   "outputs": [],
   "source": [
    "\n",
    "\n",
    "\n",
    "\n",
    "model2.compile(optimizer=\"Adagrad\",loss=\"binary_crossentropy\",metrics=[\"accuracy\"])"
   ]
  },
  {
   "cell_type": "code",
   "execution_count": null,
   "metadata": {
    "colab": {
     "base_uri": "https://localhost:8080/"
    },
    "id": "ezlLO9S3zsp2",
    "outputId": "74b192ec-f126-4bf0-e320-3a8aa97485c7"
   },
   "outputs": [
    {
     "name": "stdout",
     "output_type": "stream",
     "text": [
      "Epoch 1/50\n",
      "22/22 [==============================] - 1s 10ms/step - loss: 0.6954 - accuracy: 0.4993 - val_loss: 0.6844 - val_accuracy: 0.5584\n",
      "Epoch 2/50\n",
      "22/22 [==============================] - 0s 3ms/step - loss: 0.6922 - accuracy: 0.5615 - val_loss: 0.6819 - val_accuracy: 0.5974\n",
      "Epoch 3/50\n",
      "22/22 [==============================] - 0s 3ms/step - loss: 0.6896 - accuracy: 0.5803 - val_loss: 0.6798 - val_accuracy: 0.6234\n",
      "Epoch 4/50\n",
      "22/22 [==============================] - 0s 3ms/step - loss: 0.6875 - accuracy: 0.6093 - val_loss: 0.6781 - val_accuracy: 0.6364\n",
      "Epoch 5/50\n",
      "22/22 [==============================] - 0s 3ms/step - loss: 0.6857 - accuracy: 0.6165 - val_loss: 0.6765 - val_accuracy: 0.6623\n",
      "Epoch 6/50\n",
      "22/22 [==============================] - 0s 3ms/step - loss: 0.6841 - accuracy: 0.6353 - val_loss: 0.6751 - val_accuracy: 0.6753\n",
      "Epoch 7/50\n",
      "22/22 [==============================] - 0s 3ms/step - loss: 0.6825 - accuracy: 0.6425 - val_loss: 0.6739 - val_accuracy: 0.6883\n",
      "Epoch 8/50\n",
      "22/22 [==============================] - 0s 3ms/step - loss: 0.6811 - accuracy: 0.6570 - val_loss: 0.6726 - val_accuracy: 0.6883\n",
      "Epoch 9/50\n",
      "22/22 [==============================] - 0s 4ms/step - loss: 0.6798 - accuracy: 0.6657 - val_loss: 0.6714 - val_accuracy: 0.6883\n",
      "Epoch 10/50\n",
      "22/22 [==============================] - 0s 3ms/step - loss: 0.6785 - accuracy: 0.6802 - val_loss: 0.6702 - val_accuracy: 0.7143\n",
      "Epoch 11/50\n",
      "22/22 [==============================] - 0s 4ms/step - loss: 0.6772 - accuracy: 0.6816 - val_loss: 0.6690 - val_accuracy: 0.7143\n",
      "Epoch 12/50\n",
      "22/22 [==============================] - 0s 4ms/step - loss: 0.6759 - accuracy: 0.6787 - val_loss: 0.6679 - val_accuracy: 0.7273\n",
      "Epoch 13/50\n",
      "22/22 [==============================] - 0s 3ms/step - loss: 0.6747 - accuracy: 0.6860 - val_loss: 0.6668 - val_accuracy: 0.7273\n",
      "Epoch 14/50\n",
      "22/22 [==============================] - 0s 3ms/step - loss: 0.6735 - accuracy: 0.6845 - val_loss: 0.6657 - val_accuracy: 0.7403\n",
      "Epoch 15/50\n",
      "22/22 [==============================] - 0s 4ms/step - loss: 0.6722 - accuracy: 0.6903 - val_loss: 0.6646 - val_accuracy: 0.7403\n",
      "Epoch 16/50\n",
      "22/22 [==============================] - 0s 3ms/step - loss: 0.6710 - accuracy: 0.6918 - val_loss: 0.6635 - val_accuracy: 0.7662\n",
      "Epoch 17/50\n",
      "22/22 [==============================] - 0s 3ms/step - loss: 0.6698 - accuracy: 0.6918 - val_loss: 0.6625 - val_accuracy: 0.7662\n",
      "Epoch 18/50\n",
      "22/22 [==============================] - 0s 4ms/step - loss: 0.6686 - accuracy: 0.6961 - val_loss: 0.6614 - val_accuracy: 0.7662\n",
      "Epoch 19/50\n",
      "22/22 [==============================] - 0s 3ms/step - loss: 0.6674 - accuracy: 0.6918 - val_loss: 0.6603 - val_accuracy: 0.7662\n",
      "Epoch 20/50\n",
      "22/22 [==============================] - 0s 3ms/step - loss: 0.6661 - accuracy: 0.6932 - val_loss: 0.6592 - val_accuracy: 0.7662\n",
      "Epoch 21/50\n",
      "22/22 [==============================] - 0s 3ms/step - loss: 0.6647 - accuracy: 0.6946 - val_loss: 0.6580 - val_accuracy: 0.7662\n",
      "Epoch 22/50\n",
      "22/22 [==============================] - 0s 3ms/step - loss: 0.6634 - accuracy: 0.7004 - val_loss: 0.6568 - val_accuracy: 0.7662\n",
      "Epoch 23/50\n",
      "22/22 [==============================] - 0s 3ms/step - loss: 0.6620 - accuracy: 0.7004 - val_loss: 0.6556 - val_accuracy: 0.7662\n",
      "Epoch 24/50\n",
      "22/22 [==============================] - 0s 3ms/step - loss: 0.6607 - accuracy: 0.7033 - val_loss: 0.6544 - val_accuracy: 0.7662\n",
      "Epoch 25/50\n",
      "22/22 [==============================] - 0s 3ms/step - loss: 0.6593 - accuracy: 0.7048 - val_loss: 0.6531 - val_accuracy: 0.7662\n",
      "Epoch 26/50\n",
      "22/22 [==============================] - 0s 3ms/step - loss: 0.6578 - accuracy: 0.7048 - val_loss: 0.6518 - val_accuracy: 0.7662\n",
      "Epoch 27/50\n",
      "22/22 [==============================] - 0s 3ms/step - loss: 0.6564 - accuracy: 0.7004 - val_loss: 0.6503 - val_accuracy: 0.7662\n",
      "Epoch 28/50\n",
      "22/22 [==============================] - 0s 3ms/step - loss: 0.6549 - accuracy: 0.7106 - val_loss: 0.6488 - val_accuracy: 0.7532\n",
      "Epoch 29/50\n",
      "22/22 [==============================] - 0s 3ms/step - loss: 0.6534 - accuracy: 0.7120 - val_loss: 0.6474 - val_accuracy: 0.7532\n",
      "Epoch 30/50\n",
      "22/22 [==============================] - 0s 3ms/step - loss: 0.6519 - accuracy: 0.7120 - val_loss: 0.6458 - val_accuracy: 0.7532\n",
      "Epoch 31/50\n",
      "22/22 [==============================] - 0s 3ms/step - loss: 0.6505 - accuracy: 0.7178 - val_loss: 0.6443 - val_accuracy: 0.7662\n",
      "Epoch 32/50\n",
      "22/22 [==============================] - 0s 3ms/step - loss: 0.6490 - accuracy: 0.7164 - val_loss: 0.6428 - val_accuracy: 0.7792\n",
      "Epoch 33/50\n",
      "22/22 [==============================] - 0s 3ms/step - loss: 0.6476 - accuracy: 0.7164 - val_loss: 0.6413 - val_accuracy: 0.7792\n",
      "Epoch 34/50\n",
      "22/22 [==============================] - 0s 3ms/step - loss: 0.6460 - accuracy: 0.7192 - val_loss: 0.6397 - val_accuracy: 0.7792\n",
      "Epoch 35/50\n",
      "22/22 [==============================] - 0s 4ms/step - loss: 0.6445 - accuracy: 0.7207 - val_loss: 0.6381 - val_accuracy: 0.7662\n",
      "Epoch 36/50\n",
      "22/22 [==============================] - 0s 3ms/step - loss: 0.6430 - accuracy: 0.7236 - val_loss: 0.6366 - val_accuracy: 0.7662\n",
      "Epoch 37/50\n",
      "22/22 [==============================] - 0s 3ms/step - loss: 0.6413 - accuracy: 0.7236 - val_loss: 0.6348 - val_accuracy: 0.7662\n",
      "Epoch 38/50\n",
      "22/22 [==============================] - 0s 3ms/step - loss: 0.6397 - accuracy: 0.7265 - val_loss: 0.6331 - val_accuracy: 0.7662\n",
      "Epoch 39/50\n",
      "22/22 [==============================] - 0s 3ms/step - loss: 0.6380 - accuracy: 0.7279 - val_loss: 0.6315 - val_accuracy: 0.7662\n",
      "Epoch 40/50\n",
      "22/22 [==============================] - 0s 4ms/step - loss: 0.6363 - accuracy: 0.7294 - val_loss: 0.6299 - val_accuracy: 0.7792\n",
      "Epoch 41/50\n",
      "22/22 [==============================] - 0s 4ms/step - loss: 0.6348 - accuracy: 0.7294 - val_loss: 0.6283 - val_accuracy: 0.7792\n",
      "Epoch 42/50\n",
      "22/22 [==============================] - 0s 3ms/step - loss: 0.6331 - accuracy: 0.7308 - val_loss: 0.6267 - val_accuracy: 0.7792\n",
      "Epoch 43/50\n",
      "22/22 [==============================] - 0s 4ms/step - loss: 0.6314 - accuracy: 0.7294 - val_loss: 0.6251 - val_accuracy: 0.7792\n",
      "Epoch 44/50\n",
      "22/22 [==============================] - 0s 3ms/step - loss: 0.6297 - accuracy: 0.7366 - val_loss: 0.6234 - val_accuracy: 0.7792\n",
      "Epoch 45/50\n",
      "22/22 [==============================] - 0s 3ms/step - loss: 0.6279 - accuracy: 0.7381 - val_loss: 0.6217 - val_accuracy: 0.7662\n",
      "Epoch 46/50\n",
      "22/22 [==============================] - 0s 3ms/step - loss: 0.6260 - accuracy: 0.7410 - val_loss: 0.6200 - val_accuracy: 0.7662\n",
      "Epoch 47/50\n",
      "22/22 [==============================] - 0s 3ms/step - loss: 0.6242 - accuracy: 0.7424 - val_loss: 0.6184 - val_accuracy: 0.7662\n",
      "Epoch 48/50\n",
      "22/22 [==============================] - 0s 3ms/step - loss: 0.6224 - accuracy: 0.7438 - val_loss: 0.6168 - val_accuracy: 0.7532\n",
      "Epoch 49/50\n",
      "22/22 [==============================] - 0s 3ms/step - loss: 0.6205 - accuracy: 0.7467 - val_loss: 0.6151 - val_accuracy: 0.7532\n",
      "Epoch 50/50\n",
      "22/22 [==============================] - 0s 3ms/step - loss: 0.6186 - accuracy: 0.7453 - val_loss: 0.6135 - val_accuracy: 0.7403\n"
     ]
    }
   ],
   "source": [
    "history2=model2.fit(Xtrain2,Ytrain2,epochs=50, validation_data=(Xtest2,Ytest2))"
   ]
  },
  {
   "cell_type": "code",
   "execution_count": null,
   "metadata": {
    "colab": {
     "base_uri": "https://localhost:8080/"
    },
    "id": "sFqJBTsq1lIP",
    "outputId": "3270bfc3-9883-4456-d34f-c69c61d92c4f"
   },
   "outputs": [
    {
     "name": "stdout",
     "output_type": "stream",
     "text": [
      "3/3 [==============================] - 0s 3ms/step - loss: 0.6135 - accuracy: 0.7403\n"
     ]
    }
   ],
   "source": [
    "result2=model2.evaluate(Xtest2,Ytest2)"
   ]
  },
  {
   "cell_type": "code",
   "execution_count": null,
   "metadata": {
    "colab": {
     "base_uri": "https://localhost:8080/",
     "height": 300
    },
    "id": "jidu-zZtQA34",
    "outputId": "767e46b5-2b8e-4f0b-db4a-6c01c6c559fa"
   },
   "outputs": [
    {
     "data": {
      "text/plain": [
       "<matplotlib.legend.Legend at 0x7f7abd6e6710>"
      ]
     },
     "execution_count": 41,
     "metadata": {},
     "output_type": "execute_result"
    },
    {
     "data": {
      "image/png": "[encoded data removed]",
      "text/plain": [
       "<Figure size 432x288 with 1 Axes>"
      ]
     },
     "metadata": {
      "needs_background": "light"
     },
     "output_type": "display_data"
    }
   ],
   "source": [
    "plt.plot(history2.history['loss'], label='loss')\n",
    "#plt.plot(history.history['val_accuracy'], label = 'val_accuracy')\n",
    "plt.xlabel('Epoch')\n",
    "plt.ylabel('loss')\n",
    "plt.ylim([0, 0.8])\n",
    "plt.legend(loc='lower right')"
   ]
  },
  {
   "cell_type": "code",
   "execution_count": null,
   "metadata": {
    "colab": {
     "base_uri": "https://localhost:8080/",
     "height": 318
    },
    "id": "vlyKcCykQKhk",
    "outputId": "2ac9fe3b-79cd-4afb-ec84-8099d4088ec0"
   },
   "outputs": [
    {
     "name": "stdout",
     "output_type": "stream",
     "text": [
      "3/3 - 0s - loss: 0.6142 - accuracy: 0.7532 - 18ms/epoch - 6ms/step\n"
     ]
    },
    {
     "data": {
      "text/plain": [
       "[<matplotlib.lines.Line2D at 0x7f7abd667710>]"
      ]
     },
     "execution_count": 42,
     "metadata": {},
     "output_type": "execute_result"
    },
    {
     "data": {
      "image/png": "[encoded data removed]",
      "text/plain": [
       "<Figure size 432x288 with 1 Axes>"
      ]
     },
     "metadata": {
      "needs_background": "light"
     },
     "output_type": "display_data"
    }
   ],
   "source": [
    "test_loss, test_acc = model2.evaluate(Xtest, Ytest, verbose=2)\n",
    "plt.xlabel('Epoch')\n",
    "plt.ylabel('accuracy')\n",
    "plt.ylim([0.6,1])\n",
    "plt.plot(history2.history['accuracy'], label = 'accuracy')"
   ]
  },
  {
   "cell_type": "code",
   "execution_count": null,
   "metadata": {
    "id": "XtMEATXA0XLP"
   },
   "outputs": [],
   "source": [
    "Xtrain3,Xtest3,Ytrain3,Ytest3=train_test_split(x_,y,test_size=0.1)"
   ]
  },
  {
   "cell_type": "code",
   "execution_count": null,
   "metadata": {
    "id": "_gLPaFnY0fzF"
   },
   "outputs": [],
   "source": [
    "model3=models.Sequential()\n",
    "model3.add(layers.Dense(100,activation=\"relu\"))\n",
    "#model.add(layers.Dense(75,activation=\"relu\"))\n",
    "model3.add(layers.Dense(50,activation=\"relu\"))\n",
    "#model.add(layers.Dense(25,activation=\"relu\"))\n",
    "model3.add(layers.Dense(12,activation=\"relu\"))\n",
    "model3.add(layers.Dense(8,activation=\"relu\"))\n",
    "model3.add(layers.Dense(1,activation=\"sigmoid\")) "
   ]
  },
  {
   "cell_type": "code",
   "execution_count": null,
   "metadata": {
    "id": "LuJVQlnX04Ki"
   },
   "outputs": [],
   "source": [
    "model3.compile(optimizer=\"RMSprop\",loss=\"binary_crossentropy\",metrics=[\"accuracy\"])"
   ]
  },
  {
   "cell_type": "code",
   "execution_count": null,
   "metadata": {
    "colab": {
     "base_uri": "https://localhost:8080/"
    },
    "id": "O7JQ_3kv0_-o",
    "outputId": "ec482d90-6c95-4298-b7a5-a2b1c9ed87de"
   },
   "outputs": [
    {
     "name": "stdout",
     "output_type": "stream",
     "text": [
      "Epoch 1/50\n",
      "22/22 [==============================] - 1s 9ms/step - loss: 0.6481 - accuracy: 0.6831 - val_loss: 0.5716 - val_accuracy: 0.7792\n",
      "Epoch 2/50\n",
      "22/22 [==============================] - 0s 3ms/step - loss: 0.5426 - accuracy: 0.7598 - val_loss: 0.4418 - val_accuracy: 0.8182\n",
      "Epoch 3/50\n",
      "22/22 [==============================] - 0s 4ms/step - loss: 0.4864 - accuracy: 0.7670 - val_loss: 0.3995 - val_accuracy: 0.8312\n",
      "Epoch 4/50\n",
      "22/22 [==============================] - 0s 3ms/step - loss: 0.4717 - accuracy: 0.7685 - val_loss: 0.3838 - val_accuracy: 0.8442\n",
      "Epoch 5/50\n",
      "22/22 [==============================] - 0s 4ms/step - loss: 0.4623 - accuracy: 0.7742 - val_loss: 0.3822 - val_accuracy: 0.8182\n",
      "Epoch 6/50\n",
      "22/22 [==============================] - 0s 4ms/step - loss: 0.4527 - accuracy: 0.7713 - val_loss: 0.3743 - val_accuracy: 0.8052\n",
      "Epoch 7/50\n",
      "22/22 [==============================] - 0s 3ms/step - loss: 0.4485 - accuracy: 0.7786 - val_loss: 0.3673 - val_accuracy: 0.8442\n",
      "Epoch 8/50\n",
      "22/22 [==============================] - 0s 3ms/step - loss: 0.4421 - accuracy: 0.7829 - val_loss: 0.3635 - val_accuracy: 0.8442\n",
      "Epoch 9/50\n",
      "22/22 [==============================] - 0s 4ms/step - loss: 0.4354 - accuracy: 0.7858 - val_loss: 0.3741 - val_accuracy: 0.8182\n",
      "Epoch 10/50\n",
      "22/22 [==============================] - 0s 3ms/step - loss: 0.4344 - accuracy: 0.7873 - val_loss: 0.3667 - val_accuracy: 0.8182\n",
      "Epoch 11/50\n",
      "22/22 [==============================] - 0s 4ms/step - loss: 0.4250 - accuracy: 0.7916 - val_loss: 0.3686 - val_accuracy: 0.8312\n",
      "Epoch 12/50\n",
      "22/22 [==============================] - 0s 3ms/step - loss: 0.4226 - accuracy: 0.7887 - val_loss: 0.3899 - val_accuracy: 0.7792\n",
      "Epoch 13/50\n",
      "22/22 [==============================] - 0s 4ms/step - loss: 0.4154 - accuracy: 0.8046 - val_loss: 0.3576 - val_accuracy: 0.8312\n",
      "Epoch 14/50\n",
      "22/22 [==============================] - 0s 3ms/step - loss: 0.4130 - accuracy: 0.7945 - val_loss: 0.3658 - val_accuracy: 0.8312\n",
      "Epoch 15/50\n",
      "22/22 [==============================] - 0s 3ms/step - loss: 0.4069 - accuracy: 0.8046 - val_loss: 0.3581 - val_accuracy: 0.8442\n",
      "Epoch 16/50\n",
      "22/22 [==============================] - 0s 4ms/step - loss: 0.4041 - accuracy: 0.8061 - val_loss: 0.3616 - val_accuracy: 0.8312\n",
      "Epoch 17/50\n",
      "22/22 [==============================] - 0s 3ms/step - loss: 0.3996 - accuracy: 0.8133 - val_loss: 0.3895 - val_accuracy: 0.7922\n",
      "Epoch 18/50\n",
      "22/22 [==============================] - 0s 3ms/step - loss: 0.3976 - accuracy: 0.8104 - val_loss: 0.3586 - val_accuracy: 0.8182\n",
      "Epoch 19/50\n",
      "22/22 [==============================] - 0s 3ms/step - loss: 0.3886 - accuracy: 0.8220 - val_loss: 0.3590 - val_accuracy: 0.8571\n",
      "Epoch 20/50\n",
      "22/22 [==============================] - 0s 4ms/step - loss: 0.3866 - accuracy: 0.8104 - val_loss: 0.3656 - val_accuracy: 0.8182\n",
      "Epoch 21/50\n",
      "22/22 [==============================] - 0s 4ms/step - loss: 0.3793 - accuracy: 0.8205 - val_loss: 0.3571 - val_accuracy: 0.8052\n",
      "Epoch 22/50\n",
      "22/22 [==============================] - 0s 3ms/step - loss: 0.3775 - accuracy: 0.8249 - val_loss: 0.3628 - val_accuracy: 0.8182\n",
      "Epoch 23/50\n",
      "22/22 [==============================] - 0s 3ms/step - loss: 0.3731 - accuracy: 0.8307 - val_loss: 0.3657 - val_accuracy: 0.8182\n",
      "Epoch 24/50\n",
      "22/22 [==============================] - 0s 4ms/step - loss: 0.3722 - accuracy: 0.8321 - val_loss: 0.3763 - val_accuracy: 0.7792\n",
      "Epoch 25/50\n",
      "22/22 [==============================] - 0s 3ms/step - loss: 0.3606 - accuracy: 0.8423 - val_loss: 0.3679 - val_accuracy: 0.8182\n",
      "Epoch 26/50\n",
      "22/22 [==============================] - 0s 3ms/step - loss: 0.3614 - accuracy: 0.8379 - val_loss: 0.3777 - val_accuracy: 0.7792\n",
      "Epoch 27/50\n",
      "22/22 [==============================] - 0s 3ms/step - loss: 0.3549 - accuracy: 0.8495 - val_loss: 0.3718 - val_accuracy: 0.8182\n",
      "Epoch 28/50\n",
      "22/22 [==============================] - 0s 3ms/step - loss: 0.3460 - accuracy: 0.8567 - val_loss: 0.3821 - val_accuracy: 0.7792\n",
      "Epoch 29/50\n",
      "22/22 [==============================] - 0s 4ms/step - loss: 0.3399 - accuracy: 0.8567 - val_loss: 0.3986 - val_accuracy: 0.7922\n",
      "Epoch 30/50\n",
      "22/22 [==============================] - 0s 4ms/step - loss: 0.3369 - accuracy: 0.8669 - val_loss: 0.3828 - val_accuracy: 0.7792\n",
      "Epoch 31/50\n",
      "22/22 [==============================] - 0s 3ms/step - loss: 0.3327 - accuracy: 0.8669 - val_loss: 0.4341 - val_accuracy: 0.7922\n",
      "Epoch 32/50\n",
      "22/22 [==============================] - 0s 3ms/step - loss: 0.3311 - accuracy: 0.8654 - val_loss: 0.3910 - val_accuracy: 0.8052\n",
      "Epoch 33/50\n",
      "22/22 [==============================] - 0s 4ms/step - loss: 0.3184 - accuracy: 0.8669 - val_loss: 0.4046 - val_accuracy: 0.7662\n",
      "Epoch 34/50\n",
      "22/22 [==============================] - 0s 3ms/step - loss: 0.3155 - accuracy: 0.8784 - val_loss: 0.4069 - val_accuracy: 0.7792\n",
      "Epoch 35/50\n",
      "22/22 [==============================] - 0s 4ms/step - loss: 0.3175 - accuracy: 0.8698 - val_loss: 0.4118 - val_accuracy: 0.7792\n",
      "Epoch 36/50\n",
      "22/22 [==============================] - 0s 4ms/step - loss: 0.3041 - accuracy: 0.8726 - val_loss: 0.4177 - val_accuracy: 0.7792\n",
      "Epoch 37/50\n",
      "22/22 [==============================] - 0s 4ms/step - loss: 0.3007 - accuracy: 0.8813 - val_loss: 0.4165 - val_accuracy: 0.7792\n",
      "Epoch 38/50\n",
      "22/22 [==============================] - 0s 3ms/step - loss: 0.2979 - accuracy: 0.8857 - val_loss: 0.4190 - val_accuracy: 0.7662\n",
      "Epoch 39/50\n",
      "22/22 [==============================] - 0s 4ms/step - loss: 0.2873 - accuracy: 0.8900 - val_loss: 0.4331 - val_accuracy: 0.7662\n",
      "Epoch 40/50\n",
      "22/22 [==============================] - 0s 4ms/step - loss: 0.2830 - accuracy: 0.8886 - val_loss: 0.4327 - val_accuracy: 0.7792\n",
      "Epoch 41/50\n",
      "22/22 [==============================] - 0s 3ms/step - loss: 0.2795 - accuracy: 0.9045 - val_loss: 0.4517 - val_accuracy: 0.8052\n",
      "Epoch 42/50\n",
      "22/22 [==============================] - 0s 3ms/step - loss: 0.2731 - accuracy: 0.8973 - val_loss: 0.4516 - val_accuracy: 0.7662\n",
      "Epoch 43/50\n",
      "22/22 [==============================] - 0s 3ms/step - loss: 0.2666 - accuracy: 0.8987 - val_loss: 0.4612 - val_accuracy: 0.7792\n",
      "Epoch 44/50\n",
      "22/22 [==============================] - 0s 3ms/step - loss: 0.2607 - accuracy: 0.8987 - val_loss: 0.4669 - val_accuracy: 0.7532\n",
      "Epoch 45/50\n",
      "22/22 [==============================] - 0s 3ms/step - loss: 0.2535 - accuracy: 0.8987 - val_loss: 0.4650 - val_accuracy: 0.7792\n",
      "Epoch 46/50\n",
      "22/22 [==============================] - 0s 3ms/step - loss: 0.2478 - accuracy: 0.9190 - val_loss: 0.5444 - val_accuracy: 0.7532\n",
      "Epoch 47/50\n",
      "22/22 [==============================] - 0s 3ms/step - loss: 0.2477 - accuracy: 0.9103 - val_loss: 0.4854 - val_accuracy: 0.8052\n",
      "Epoch 48/50\n",
      "22/22 [==============================] - 0s 3ms/step - loss: 0.2439 - accuracy: 0.9030 - val_loss: 0.5810 - val_accuracy: 0.7532\n",
      "Epoch 49/50\n",
      "22/22 [==============================] - 0s 3ms/step - loss: 0.2341 - accuracy: 0.9132 - val_loss: 0.4960 - val_accuracy: 0.7922\n",
      "Epoch 50/50\n",
      "22/22 [==============================] - 0s 3ms/step - loss: 0.2278 - accuracy: 0.9146 - val_loss: 0.4948 - val_accuracy: 0.7922\n"
     ]
    }
   ],
   "source": [
    "history3=model3.fit(Xtrain3,Ytrain3,epochs=50, validation_data=(Xtest3,Ytest3))"
   ]
  },
  {
   "cell_type": "code",
   "execution_count": null,
   "metadata": {
    "colab": {
     "base_uri": "https://localhost:8080/"
    },
    "id": "hSBN5nQi1PB9",
    "outputId": "debe2e30-a8bd-46f1-9b18-7f6f72f3f65e"
   },
   "outputs": [
    {
     "name": "stdout",
     "output_type": "stream",
     "text": [
      "3/3 [==============================] - 0s 4ms/step - loss: 0.4948 - accuracy: 0.7922\n"
     ]
    }
   ],
   "source": [
    "resul3=model3.evaluate(Xtest3,Ytest3)"
   ]
  },
  {
   "cell_type": "code",
   "execution_count": null,
   "metadata": {
    "colab": {
     "base_uri": "https://localhost:8080/",
     "height": 300
    },
    "id": "R2n0ltAU13h3",
    "outputId": "38fb487d-68ed-4f30-fea4-f8840c42c77e"
   },
   "outputs": [
    {
     "data": {
      "text/plain": [
       "<matplotlib.legend.Legend at 0x7f7abac7ba10>"
      ]
     },
     "execution_count": 48,
     "metadata": {},
     "output_type": "execute_result"
    },
    {
     "data": {
      "image/png": "[encoded data removed]",
      "text/plain": [
       "<Figure size 432x288 with 1 Axes>"
      ]
     },
     "metadata": {
      "needs_background": "light"
     },
     "output_type": "display_data"
    }
   ],
   "source": [
    "plt.plot(history3.history['loss'], label='loss')\n",
    "#plt.plot(history.history['val_accuracy'], label = 'val_accuracy')\n",
    "plt.xlabel('Epoch')\n",
    "plt.ylabel('loss')\n",
    "plt.ylim([0, 0.8])\n",
    "plt.legend(loc='lower right')"
   ]
  },
  {
   "cell_type": "code",
   "execution_count": null,
   "metadata": {
    "colab": {
     "base_uri": "https://localhost:8080/",
     "height": 318
    },
    "id": "rmJLYcN7Qpmm",
    "outputId": "25d09766-c7ef-42b3-af05-9bc417921437"
   },
   "outputs": [
    {
     "name": "stdout",
     "output_type": "stream",
     "text": [
      "3/3 - 0s - loss: 0.2999 - accuracy: 0.8701 - 18ms/epoch - 6ms/step\n"
     ]
    },
    {
     "data": {
      "text/plain": [
       "[<matplotlib.lines.Line2D at 0x7f7abab831d0>]"
      ]
     },
     "execution_count": 49,
     "metadata": {},
     "output_type": "execute_result"
    },
    {
     "data": {
      "image/png": "[encoded data removed]",
      "text/plain": [
       "<Figure size 432x288 with 1 Axes>"
      ]
     },
     "metadata": {
      "needs_background": "light"
     },
     "output_type": "display_data"
    }
   ],
   "source": [
    "test_loss, test_acc = model3.evaluate(Xtest, Ytest, verbose=2)\n",
    "plt.xlabel('Epoch')\n",
    "plt.ylabel('accuracy')\n",
    "plt.ylim([0.6,1])\n",
    "plt.plot(history3.history['accuracy'], label = 'accuracy')"
   ]
  },
  {
   "cell_type": "code",
   "execution_count": null,
   "metadata": {
    "id": "Cj5qF5yLQto_"
   },
   "outputs": [],
   "source": [
    "Xtrain4,Xtest4,Ytrain4,Ytest4=train_test_split(x_,y,test_size=0.1)"
   ]
  },
  {
   "cell_type": "code",
   "execution_count": null,
   "metadata": {
    "id": "80fc5KCxX3Yq"
   },
   "outputs": [],
   "source": [
    "model4=models.Sequential()\n",
    "model4.add(layers.Dense(100,activation=\"relu\"))\n",
    "#model.add(layers.Dense(75,activation=\"relu\"))\n",
    "model4.add(layers.Dense(50,activation=\"relu\"))\n",
    "#model.add(layers.Dense(25,activation=\"relu\"))\n",
    "model4.add(layers.Dense(12,activation=\"relu\"))\n",
    "model4.add(layers.Dense(8,activation=\"relu\"))\n",
    "model4.add(layers.Dense(1,activation=\"sigmoid\"))"
   ]
  },
  {
   "cell_type": "code",
   "execution_count": null,
   "metadata": {
    "id": "bgGeFdSVX9m_"
   },
   "outputs": [],
   "source": [
    "model4.compile(optimizer=\"nadam\",loss=\"binary_crossentropy\",metrics=[\"accuracy\"])"
   ]
  },
  {
   "cell_type": "code",
   "execution_count": null,
   "metadata": {
    "colab": {
     "base_uri": "https://localhost:8080/"
    },
    "id": "O6VieM2QYkaQ",
    "outputId": "af1b627a-4bc3-4fdc-aa82-ac9299e8d392"
   },
   "outputs": [
    {
     "name": "stdout",
     "output_type": "stream",
     "text": [
      "Epoch 1/50\n",
      "22/22 [==============================] - 1s 9ms/step - loss: 0.6267 - accuracy: 0.6744 - val_loss: 0.5601 - val_accuracy: 0.7273\n",
      "Epoch 2/50\n",
      "22/22 [==============================] - 0s 3ms/step - loss: 0.5265 - accuracy: 0.7583 - val_loss: 0.5002 - val_accuracy: 0.7662\n",
      "Epoch 3/50\n",
      "22/22 [==============================] - 0s 4ms/step - loss: 0.4861 - accuracy: 0.7670 - val_loss: 0.4629 - val_accuracy: 0.7403\n",
      "Epoch 4/50\n",
      "22/22 [==============================] - 0s 3ms/step - loss: 0.4662 - accuracy: 0.7728 - val_loss: 0.4421 - val_accuracy: 0.7532\n",
      "Epoch 5/50\n",
      "22/22 [==============================] - 0s 3ms/step - loss: 0.4568 - accuracy: 0.7786 - val_loss: 0.4334 - val_accuracy: 0.7403\n",
      "Epoch 6/50\n",
      "22/22 [==============================] - 0s 3ms/step - loss: 0.4477 - accuracy: 0.7959 - val_loss: 0.4258 - val_accuracy: 0.7532\n",
      "Epoch 7/50\n",
      "22/22 [==============================] - 0s 4ms/step - loss: 0.4407 - accuracy: 0.7974 - val_loss: 0.4314 - val_accuracy: 0.7532\n",
      "Epoch 8/50\n",
      "22/22 [==============================] - 0s 4ms/step - loss: 0.4352 - accuracy: 0.7931 - val_loss: 0.4197 - val_accuracy: 0.7662\n",
      "Epoch 9/50\n",
      "22/22 [==============================] - 0s 4ms/step - loss: 0.4289 - accuracy: 0.7974 - val_loss: 0.4185 - val_accuracy: 0.7532\n",
      "Epoch 10/50\n",
      "22/22 [==============================] - 0s 3ms/step - loss: 0.4234 - accuracy: 0.7974 - val_loss: 0.4216 - val_accuracy: 0.7403\n",
      "Epoch 11/50\n",
      "22/22 [==============================] - 0s 4ms/step - loss: 0.4195 - accuracy: 0.7974 - val_loss: 0.4172 - val_accuracy: 0.7403\n",
      "Epoch 12/50\n",
      "22/22 [==============================] - 0s 3ms/step - loss: 0.4144 - accuracy: 0.8075 - val_loss: 0.4181 - val_accuracy: 0.7662\n",
      "Epoch 13/50\n",
      "22/22 [==============================] - 0s 3ms/step - loss: 0.4089 - accuracy: 0.8119 - val_loss: 0.4193 - val_accuracy: 0.7662\n",
      "Epoch 14/50\n",
      "22/22 [==============================] - 0s 3ms/step - loss: 0.4044 - accuracy: 0.8046 - val_loss: 0.4186 - val_accuracy: 0.7792\n",
      "Epoch 15/50\n",
      "22/22 [==============================] - 0s 3ms/step - loss: 0.3999 - accuracy: 0.8133 - val_loss: 0.4206 - val_accuracy: 0.7662\n",
      "Epoch 16/50\n",
      "22/22 [==============================] - 0s 3ms/step - loss: 0.3950 - accuracy: 0.8177 - val_loss: 0.4207 - val_accuracy: 0.7792\n",
      "Epoch 17/50\n",
      "22/22 [==============================] - 0s 3ms/step - loss: 0.3913 - accuracy: 0.8191 - val_loss: 0.4351 - val_accuracy: 0.7532\n",
      "Epoch 18/50\n",
      "22/22 [==============================] - 0s 3ms/step - loss: 0.3857 - accuracy: 0.8075 - val_loss: 0.4234 - val_accuracy: 0.7662\n",
      "Epoch 19/50\n",
      "22/22 [==============================] - 0s 4ms/step - loss: 0.3797 - accuracy: 0.8278 - val_loss: 0.4313 - val_accuracy: 0.7792\n",
      "Epoch 20/50\n",
      "22/22 [==============================] - 0s 4ms/step - loss: 0.3775 - accuracy: 0.8278 - val_loss: 0.4308 - val_accuracy: 0.7662\n",
      "Epoch 21/50\n",
      "22/22 [==============================] - 0s 3ms/step - loss: 0.3710 - accuracy: 0.8336 - val_loss: 0.4322 - val_accuracy: 0.7662\n",
      "Epoch 22/50\n",
      "22/22 [==============================] - 0s 4ms/step - loss: 0.3656 - accuracy: 0.8394 - val_loss: 0.4288 - val_accuracy: 0.7662\n",
      "Epoch 23/50\n",
      "22/22 [==============================] - 0s 4ms/step - loss: 0.3604 - accuracy: 0.8423 - val_loss: 0.4332 - val_accuracy: 0.7662\n",
      "Epoch 24/50\n",
      "22/22 [==============================] - 0s 3ms/step - loss: 0.3562 - accuracy: 0.8379 - val_loss: 0.4323 - val_accuracy: 0.7792\n",
      "Epoch 25/50\n",
      "22/22 [==============================] - 0s 4ms/step - loss: 0.3489 - accuracy: 0.8625 - val_loss: 0.4582 - val_accuracy: 0.7662\n",
      "Epoch 26/50\n",
      "22/22 [==============================] - 0s 3ms/step - loss: 0.3482 - accuracy: 0.8452 - val_loss: 0.4580 - val_accuracy: 0.7662\n",
      "Epoch 27/50\n",
      "22/22 [==============================] - 0s 3ms/step - loss: 0.3430 - accuracy: 0.8466 - val_loss: 0.4390 - val_accuracy: 0.7792\n",
      "Epoch 28/50\n",
      "22/22 [==============================] - 0s 3ms/step - loss: 0.3370 - accuracy: 0.8582 - val_loss: 0.4493 - val_accuracy: 0.7662\n",
      "Epoch 29/50\n",
      "22/22 [==============================] - 0s 3ms/step - loss: 0.3304 - accuracy: 0.8640 - val_loss: 0.4617 - val_accuracy: 0.7792\n",
      "Epoch 30/50\n",
      "22/22 [==============================] - 0s 3ms/step - loss: 0.3269 - accuracy: 0.8611 - val_loss: 0.4671 - val_accuracy: 0.7662\n",
      "Epoch 31/50\n",
      "22/22 [==============================] - 0s 5ms/step - loss: 0.3190 - accuracy: 0.8654 - val_loss: 0.4512 - val_accuracy: 0.7662\n",
      "Epoch 32/50\n",
      "22/22 [==============================] - 0s 3ms/step - loss: 0.3143 - accuracy: 0.8712 - val_loss: 0.4848 - val_accuracy: 0.7662\n",
      "Epoch 33/50\n",
      "22/22 [==============================] - 0s 3ms/step - loss: 0.3066 - accuracy: 0.8900 - val_loss: 0.4928 - val_accuracy: 0.7532\n",
      "Epoch 34/50\n",
      "22/22 [==============================] - 0s 3ms/step - loss: 0.3024 - accuracy: 0.8770 - val_loss: 0.4902 - val_accuracy: 0.7792\n",
      "Epoch 35/50\n",
      "22/22 [==============================] - 0s 4ms/step - loss: 0.2956 - accuracy: 0.8842 - val_loss: 0.4882 - val_accuracy: 0.7662\n",
      "Epoch 36/50\n",
      "22/22 [==============================] - 0s 3ms/step - loss: 0.2870 - accuracy: 0.8958 - val_loss: 0.4760 - val_accuracy: 0.7922\n",
      "Epoch 37/50\n",
      "22/22 [==============================] - 0s 3ms/step - loss: 0.2885 - accuracy: 0.8900 - val_loss: 0.5007 - val_accuracy: 0.7532\n",
      "Epoch 38/50\n",
      "22/22 [==============================] - 0s 4ms/step - loss: 0.2853 - accuracy: 0.8929 - val_loss: 0.5204 - val_accuracy: 0.7532\n",
      "Epoch 39/50\n",
      "22/22 [==============================] - 0s 3ms/step - loss: 0.2741 - accuracy: 0.9001 - val_loss: 0.5155 - val_accuracy: 0.7532\n",
      "Epoch 40/50\n",
      "22/22 [==============================] - 0s 3ms/step - loss: 0.2658 - accuracy: 0.8973 - val_loss: 0.5451 - val_accuracy: 0.7403\n",
      "Epoch 41/50\n",
      "22/22 [==============================] - 0s 3ms/step - loss: 0.2599 - accuracy: 0.9016 - val_loss: 0.5389 - val_accuracy: 0.7403\n",
      "Epoch 42/50\n",
      "22/22 [==============================] - 0s 4ms/step - loss: 0.2566 - accuracy: 0.9088 - val_loss: 0.5640 - val_accuracy: 0.7403\n",
      "Epoch 43/50\n",
      "22/22 [==============================] - 0s 3ms/step - loss: 0.2521 - accuracy: 0.9045 - val_loss: 0.5508 - val_accuracy: 0.7403\n",
      "Epoch 44/50\n",
      "22/22 [==============================] - 0s 5ms/step - loss: 0.2362 - accuracy: 0.9247 - val_loss: 0.6103 - val_accuracy: 0.7403\n",
      "Epoch 45/50\n",
      "22/22 [==============================] - 0s 3ms/step - loss: 0.2357 - accuracy: 0.9074 - val_loss: 0.5891 - val_accuracy: 0.7532\n",
      "Epoch 46/50\n",
      "22/22 [==============================] - 0s 4ms/step - loss: 0.2244 - accuracy: 0.9190 - val_loss: 0.6213 - val_accuracy: 0.7403\n",
      "Epoch 47/50\n",
      "22/22 [==============================] - 0s 3ms/step - loss: 0.2211 - accuracy: 0.9175 - val_loss: 0.5997 - val_accuracy: 0.7662\n",
      "Epoch 48/50\n",
      "22/22 [==============================] - 0s 3ms/step - loss: 0.2179 - accuracy: 0.9161 - val_loss: 0.6368 - val_accuracy: 0.7403\n",
      "Epoch 49/50\n",
      "22/22 [==============================] - 0s 3ms/step - loss: 0.2041 - accuracy: 0.9219 - val_loss: 0.6669 - val_accuracy: 0.7273\n",
      "Epoch 50/50\n",
      "22/22 [==============================] - 0s 3ms/step - loss: 0.1971 - accuracy: 0.9262 - val_loss: 0.6693 - val_accuracy: 0.7273\n"
     ]
    }
   ],
   "source": [
    "history4=model4.fit(Xtrain4,Ytrain4,epochs=50, validation_data=(Xtest4,Ytest4))"
   ]
  },
  {
   "cell_type": "code",
   "execution_count": null,
   "metadata": {
    "colab": {
     "base_uri": "https://localhost:8080/"
    },
    "id": "ApKrjhpXYUs2",
    "outputId": "ff229ec3-4e3d-4c75-948f-772af7ec3fa1"
   },
   "outputs": [
    {
     "name": "stdout",
     "output_type": "stream",
     "text": [
      "3/3 [==============================] - 0s 3ms/step - loss: 0.6693 - accuracy: 0.7273\n"
     ]
    }
   ],
   "source": [
    "resul4=model4.evaluate(Xtest4,Ytest4)"
   ]
  },
  {
   "cell_type": "code",
   "execution_count": null,
   "metadata": {
    "colab": {
     "base_uri": "https://localhost:8080/",
     "height": 300
    },
    "id": "rzKzrQY6YbCR",
    "outputId": "7328e80b-fbad-4904-e532-3e1dff12bd32"
   },
   "outputs": [
    {
     "data": {
      "text/plain": [
       "<matplotlib.legend.Legend at 0x7f7ab79e5e90>"
      ]
     },
     "execution_count": 55,
     "metadata": {},
     "output_type": "execute_result"
    },
    {
     "data": {
      "image/png": "[encoded data removed]",
      "text/plain": [
       "<Figure size 432x288 with 1 Axes>"
      ]
     },
     "metadata": {
      "needs_background": "light"
     },
     "output_type": "display_data"
    }
   ],
   "source": [
    "plt.plot(history4.history['loss'], label='loss')\n",
    "#plt.plot(history.history['val_accuracy'], label = 'val_accuracy')\n",
    "plt.xlabel('Epoch')\n",
    "plt.ylabel('loss')\n",
    "plt.ylim([0, 0.8])\n",
    "plt.legend(loc='lower right')"
   ]
  },
  {
   "cell_type": "code",
   "execution_count": null,
   "metadata": {
    "colab": {
     "base_uri": "https://localhost:8080/",
     "height": 318
    },
    "id": "Gad5F6l1Y_sI",
    "outputId": "8ed737a8-65c9-4c82-e565-86d02bc418f0"
   },
   "outputs": [
    {
     "name": "stdout",
     "output_type": "stream",
     "text": [
      "3/3 - 0s - loss: 0.2726 - accuracy: 0.8701 - 18ms/epoch - 6ms/step\n"
     ]
    },
    {
     "data": {
      "text/plain": [
       "[<matplotlib.lines.Line2D at 0x7f7ab82ad790>]"
      ]
     },
     "execution_count": 56,
     "metadata": {},
     "output_type": "execute_result"
    },
    {
     "data": {
      "image/png": "[encoded data removed]",
      "text/plain": [
       "<Figure size 432x288 with 1 Axes>"
      ]
     },
     "metadata": {
      "needs_background": "light"
     },
     "output_type": "display_data"
    }
   ],
   "source": [
    "test_loss, test_acc = model3.evaluate(Xtest4, Ytest4, verbose=2)\n",
    "plt.xlabel('Epoch')\n",
    "plt.ylabel('accuracy')\n",
    "plt.ylim([0.6,1])\n",
    "plt.plot(history4.history['accuracy'], label = 'accuracy')"
   ]
  }
 ],
 "metadata": {
  "colab": {
   "collapsed_sections": [],
   "provenance": []
  },
  "kernelspec": {
   "display_name": "Python 3 (ipykernel)",
   "language": "python",
   "name": "python3"
  },
  "language_info": {
   "codemirror_mode": {
    "name": "ipython",
    "version": 3
   },
   "file_extension": ".py",
   "mimetype": "text/x-python",
   "name": "python",
   "nbconvert_exporter": "python",
   "pygments_lexer": "ipython3",
   "version": "3.9.7"
  }
 },
 "nbformat": 4,
 "nbformat_minor": 1
}
