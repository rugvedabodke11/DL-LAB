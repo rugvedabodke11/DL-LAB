{
 "cells": [
  {
   "cell_type": "code",
   "execution_count": 1,
   "id": "324e0719",
   "metadata": {
    "_cell_guid": "08e0e784-f00d-49a0-b7df-8df3bcccfc49",
    "_uuid": "104c9a6b-a3bd-4f32-8097-31f2177cb0a6",
    "execution": {
     "iopub.execute_input": "2021-07-26T18:19:37.474564Z",
     "iopub.status.busy": "2021-07-26T18:19:37.473484Z",
     "iopub.status.idle": "2021-07-26T18:19:44.202227Z",
     "shell.execute_reply": "2021-07-26T18:19:44.201429Z",
     "shell.execute_reply.started": "2021-07-26T17:54:12.055763Z"
    },
    "jupyter": {
     "outputs_hidden": false
    },
    "papermill": {
     "duration": 6.744226,
     "end_time": "2021-07-26T18:19:44.202389",
     "exception": false,
     "start_time": "2021-07-26T18:19:37.458163",
     "status": "completed"
    },
    "tags": []
   },
   "outputs": [],
   "source": [
    "import keras\n",
    "from keras.models import Sequential\n",
    "from keras.layers import Conv2D, MaxPooling2D, Dense, Flatten, Dropout\n",
    "from keras.optimizers import Adam\n",
    "from keras.callbacks import TensorBoard\n",
    "\n",
    "import numpy as np\n",
    "import pandas as pd\n",
    "import matplotlib.pyplot as plt\n",
    "from sklearn.model_selection import train_test_split\n",
    "\n",
    "from sklearn.metrics import confusion_matrix\n",
    "from sklearn.metrics import classification_report\n",
    "from sklearn.metrics import roc_curve, auc\n",
    "from sklearn.metrics import accuracy_score\n",
    "from keras.utils import np_utils\n",
    "import itertools"
   ]
  },
  {
   "cell_type": "markdown",
   "id": "adbe2c4e",
   "metadata": {
    "_cell_guid": "b66306f7-d36a-4350-93d9-4e7744c98a53",
    "_uuid": "7ea3f6c8-7acd-45c8-ac4a-15d111c5a668",
    "papermill": {
     "duration": 0.012369,
     "end_time": "2021-07-26T18:19:44.226897",
     "exception": false,
     "start_time": "2021-07-26T18:19:44.214528",
     "status": "completed"
    },
    "tags": []
   },
   "source": [
    "# Step 2\n",
    "Load Dataset :\n",
    "After loading the Dataset you have to normalize every image.\n",
    "\n",
    "**Note:** an image is a Uint8 matrix of pixels and for calculation, you need to convert the format of the image to float or double"
   ]
  },
  {
   "cell_type": "code",
   "execution_count": 2,
   "id": "8fd2ba8c",
   "metadata": {
    "_cell_guid": "7c74b6fe-4ea4-45e3-97e4-8c0caa313dc8",
    "_uuid": "ca522af1-e196-4f6e-80d4-b93bb5f0dc5b",
    "execution": {
     "iopub.execute_input": "2021-07-26T18:19:44.255296Z",
     "iopub.status.busy": "2021-07-26T18:19:44.254646Z",
     "iopub.status.idle": "2021-07-26T18:19:44.794020Z",
     "shell.execute_reply": "2021-07-26T18:19:44.793419Z",
     "shell.execute_reply.started": "2021-07-26T17:54:20.003695Z"
    },
    "jupyter": {
     "outputs_hidden": false
    },
    "papermill": {
     "duration": 0.555907,
     "end_time": "2021-07-26T18:19:44.794157",
     "exception": false,
     "start_time": "2021-07-26T18:19:44.238250",
     "status": "completed"
    },
    "tags": []
   },
   "outputs": [
    {
     "name": "stdout",
     "output_type": "stream",
     "text": [
      "x_train : [[0.1882353  0.19215687 0.1764706  ... 0.18431373 0.18039216 0.18039216]\n",
      " [0.23529412 0.23529412 0.24313726 ... 0.1254902  0.13333334 0.13333334]\n",
      " [0.15294118 0.17254902 0.20784314 ... 0.11372549 0.10196079 0.11372549]\n",
      " ...\n",
      " [0.44705883 0.45882353 0.44705883 ... 0.38431373 0.3764706  0.38431373]\n",
      " [0.4117647  0.4117647  0.41960785 ... 0.21176471 0.18431373 0.16078432]\n",
      " [0.45490196 0.44705883 0.45882353 ... 0.37254903 0.39215687 0.39607844]]\n",
      "Y-train shape: [ 0  0  0  0  0  0  0  0  0  0  0  0  1  1  1  1  1  1  1  1  1  1  1  1\n",
      "  2  2  2  2  2  2  2  2  2  2  2  2  3  3  3  3  3  3  3  3  3  3  3  3\n",
      "  4  4  4  4  4  4  4  4  4  4  4  4  5  5  5  5  5  5  5  5  5  5  5  5\n",
      "  6  6  6  6  6  6  6  6  6  6  6  6  7  7  7  7  7  7  7  7  7  7  7  7\n",
      "  8  8  8  8  8  8  8  8  8  8  8  8  9  9  9  9  9  9  9  9  9  9  9  9\n",
      " 10 10 10 10 10 10 10 10 10 10 10 10 11 11 11 11 11 11 11 11 11 11 11 11\n",
      " 12 12 12 12 12 12 12 12 12 12 12 12 13 13 13 13 13 13 13 13 13 13 13 13\n",
      " 14 14 14 14 14 14 14 14 14 14 14 14 15 15 15 15 15 15 15 15 15 15 15 15\n",
      " 16 16 16 16 16 16 16 16 16 16 16 16 17 17 17 17 17 17 17 17 17 17 17 17\n",
      " 18 18 18 18 18 18 18 18 18 18 18 18 19 19 19 19 19 19 19 19 19 19 19 19]\n",
      "x_test shape: (160, 10304)\n"
     ]
    }
   ],
   "source": [
    "#load dataset\n",
    "data = np.load('../input/orl-faces/ORL_faces.npz') \n",
    "\n",
    "# load the \"Train Images\"\n",
    "x_train = data['trainX']\n",
    "#normalize every image\n",
    "x_train = np.array(x_train,dtype='float32')/255\n",
    "\n",
    "x_test = data['testX']\n",
    "x_test = np.array(x_test,dtype='float32')/255\n",
    "\n",
    "# load the Label of Images\n",
    "y_train= data['trainY']\n",
    "y_test= data['testY']\n",
    "\n",
    "# show the train and test Data format\n",
    "print('x_train : {}'.format(x_train[:]))\n",
    "print('Y-train shape: {}'.format(y_train))\n",
    "print('x_test shape: {}'.format(x_test.shape))"
   ]
  },
  {
   "cell_type": "markdown",
   "id": "3a8bb729",
   "metadata": {
    "_cell_guid": "96743b41-911d-4598-8529-566171aa493e",
    "_uuid": "513ae144-0cfa-42b4-8f48-18de0496dd7a",
    "papermill": {
     "duration": 0.011994,
     "end_time": "2021-07-26T18:19:44.818146",
     "exception": false,
     "start_time": "2021-07-26T18:19:44.806152",
     "status": "completed"
    },
    "tags": []
   },
   "source": [
    "# Step 3\n",
    "Split DataSet : Validation data and Train\n",
    "\n",
    "Validation DataSet: this data set is used to minimize overfitting.If the accuracy over the training data set increases, but the accuracy over then validation data set stays the same or decreases, then you're overfitting your neural network and you should stop training.\n",
    "\n",
    "**Note:** we usually use 30 percent of every dataset as the validation data but Here we only used 5 percent because the number of images in this dataset is very low."
   ]
  },
  {
   "cell_type": "code",
   "execution_count": 3,
   "id": "cc41839e",
   "metadata": {
    "_cell_guid": "f3ace218-246a-40b8-aaae-ab9242123294",
    "_uuid": "ae0b7183-f909-423d-9fde-de6dd06b95fe",
    "execution": {
     "iopub.execute_input": "2021-07-26T18:19:44.849579Z",
     "iopub.status.busy": "2021-07-26T18:19:44.848639Z",
     "iopub.status.idle": "2021-07-26T18:19:44.853114Z",
     "shell.execute_reply": "2021-07-26T18:19:44.853564Z",
     "shell.execute_reply.started": "2021-07-26T17:54:20.576156Z"
    },
    "jupyter": {
     "outputs_hidden": false
    },
    "papermill": {
     "duration": 0.022724,
     "end_time": "2021-07-26T18:19:44.853724",
     "exception": false,
     "start_time": "2021-07-26T18:19:44.831000",
     "status": "completed"
    },
    "tags": []
   },
   "outputs": [],
   "source": [
    "x_train, x_valid, y_train, y_valid= train_test_split(\n",
    "    x_train, y_train, test_size=.05, random_state=1234,)"
   ]
  },
  {
   "cell_type": "markdown",
   "id": "5fdff029",
   "metadata": {
    "_cell_guid": "ce2f1c33-efae-4f5e-8654-d9457cd461fb",
    "_uuid": "d748c7fb-7df2-4bdf-9a1c-0f3922b64dc4",
    "papermill": {
     "duration": 0.011426,
     "end_time": "2021-07-26T18:19:44.877363",
     "exception": false,
     "start_time": "2021-07-26T18:19:44.865937",
     "status": "completed"
    },
    "tags": []
   },
   "source": [
    "# **Step 4**\n",
    "\n",
    "for using the CNN, we need to change The size of images ( The size of images must be the same)"
   ]
  },
  {
   "cell_type": "code",
   "execution_count": 4,
   "id": "7b6a9c06",
   "metadata": {
    "_cell_guid": "129f89f8-ac2a-4747-8a04-ec10121a93aa",
    "_uuid": "97984650-c7b2-424d-b15a-5dd4bf37fd7a",
    "execution": {
     "iopub.execute_input": "2021-07-26T18:19:44.904131Z",
     "iopub.status.busy": "2021-07-26T18:19:44.903508Z",
     "iopub.status.idle": "2021-07-26T18:19:44.910060Z",
     "shell.execute_reply": "2021-07-26T18:19:44.910520Z",
     "shell.execute_reply.started": "2021-07-26T17:54:20.586536Z"
    },
    "jupyter": {
     "outputs_hidden": false
    },
    "papermill": {
     "duration": 0.021493,
     "end_time": "2021-07-26T18:19:44.910697",
     "exception": false,
     "start_time": "2021-07-26T18:19:44.889204",
     "status": "completed"
    },
    "tags": []
   },
   "outputs": [
    {
     "name": "stdout",
     "output_type": "stream",
     "text": [
      "x_train shape: 228\n",
      "x_test shape: (160,)\n"
     ]
    }
   ],
   "source": [
    "im_rows=112\n",
    "im_cols=92\n",
    "batch_size=512\n",
    "im_shape=(im_rows, im_cols, 1)\n",
    "\n",
    "#change the size of images\n",
    "x_train = x_train.reshape(x_train.shape[0], *im_shape)\n",
    "x_test = x_test.reshape(x_test.shape[0], *im_shape)\n",
    "x_valid = x_valid.reshape(x_valid.shape[0], *im_shape)\n",
    "\n",
    "print('x_train shape: {}'.format(y_train.shape[0]))\n",
    "print('x_test shape: {}'.format(y_test.shape))"
   ]
  },
  {
   "cell_type": "markdown",
   "id": "7838461d",
   "metadata": {
    "_cell_guid": "5eda4aba-afcd-4ce6-8173-674f2230e412",
    "_uuid": "8156121a-fc0d-4f1b-b4cd-e478eb99f753",
    "papermill": {
     "duration": 0.011572,
     "end_time": "2021-07-26T18:19:44.934602",
     "exception": false,
     "start_time": "2021-07-26T18:19:44.923030",
     "status": "completed"
    },
    "tags": []
   },
   "source": [
    "# **Step 5**\n",
    "\n",
    "Build CNN model: CNN have 3 main layer:\n",
    "\n",
    "1-Convolotional layer\n",
    "2- pooling layer\n",
    "3- fully connected layer\n",
    "\n",
    "we could build a new architecture of CNN by changing the number and position of layers."
   ]
  },
  {
   "cell_type": "code",
   "execution_count": 5,
   "id": "c962593a",
   "metadata": {
    "_cell_guid": "576b801b-ca21-4a78-a3ad-d60652a9d5d8",
    "_uuid": "c4fc841a-3311-4c32-bf73-00489ef63d97",
    "execution": {
     "iopub.execute_input": "2021-07-26T18:19:44.965227Z",
     "iopub.status.busy": "2021-07-26T18:19:44.964513Z",
     "iopub.status.idle": "2021-07-26T18:19:45.456064Z",
     "shell.execute_reply": "2021-07-26T18:19:45.454962Z",
     "shell.execute_reply.started": "2021-07-26T17:54:20.600274Z"
    },
    "jupyter": {
     "outputs_hidden": false
    },
    "papermill": {
     "duration": 0.509689,
     "end_time": "2021-07-26T18:19:45.456208",
     "exception": false,
     "start_time": "2021-07-26T18:19:44.946519",
     "status": "completed"
    },
    "tags": []
   },
   "outputs": [],
   "source": [
    "\n",
    "#filters= the depth of output image or kernels\n",
    "\n",
    "cnn_model= Sequential([\n",
    "    Conv2D(filters=36, kernel_size=7, activation='relu', input_shape= im_shape),\n",
    "    MaxPooling2D(pool_size=2),\n",
    "    Conv2D(filters=54, kernel_size=5, activation='relu', input_shape= im_shape),\n",
    "    MaxPooling2D(pool_size=2),\n",
    "    Flatten(),\n",
    "    Dense(2024, activation='relu'),\n",
    "     Dropout(0.5),\n",
    "    Dense(1024, activation='relu'),\n",
    "    Dropout(0.5),\n",
    "    Dense(512, activation='relu'),\n",
    "    Dropout(0.5),\n",
    "    #20 is the number of outputs\n",
    "    Dense(20, activation='softmax')  \n",
    "])\n",
    "\n",
    "cnn_model.compile(\n",
    "    loss='sparse_categorical_crossentropy',#'categorical_crossentropy',\n",
    "    optimizer=Adam(lr=0.0001),\n",
    "    metrics=['accuracy']\n",
    ")"
   ]
  },
  {
   "cell_type": "markdown",
   "id": "149ca87e",
   "metadata": {
    "_cell_guid": "a585858c-6da2-4d17-a4c1-c2df1cfd57b7",
    "_uuid": "0aa1d7f5-387e-4568-a1fa-8b401869254a",
    "papermill": {
     "duration": 0.011493,
     "end_time": "2021-07-26T18:19:45.479728",
     "exception": false,
     "start_time": "2021-07-26T18:19:45.468235",
     "status": "completed"
    },
    "tags": []
   },
   "source": [
    "\n",
    "Show the model's parameters."
   ]
  },
  {
   "cell_type": "code",
   "execution_count": 6,
   "id": "2a6ba382",
   "metadata": {
    "_cell_guid": "cc6e671a-be1c-4473-b95e-d73cad65836e",
    "_uuid": "df8637a3-44c7-419f-8dd1-df6fd8cfc77b",
    "execution": {
     "iopub.execute_input": "2021-07-26T18:19:45.508719Z",
     "iopub.status.busy": "2021-07-26T18:19:45.507740Z",
     "iopub.status.idle": "2021-07-26T18:19:45.517353Z",
     "shell.execute_reply": "2021-07-26T18:19:45.517832Z",
     "shell.execute_reply.started": "2021-07-26T17:54:21.210208Z"
    },
    "jupyter": {
     "outputs_hidden": false
    },
    "papermill": {
     "duration": 0.026487,
     "end_time": "2021-07-26T18:19:45.517999",
     "exception": false,
     "start_time": "2021-07-26T18:19:45.491512",
     "status": "completed"
    },
    "tags": []
   },
   "outputs": [
    {
     "name": "stdout",
     "output_type": "stream",
     "text": [
      "Model: \"sequential\"\n",
      "_________________________________________________________________\n",
      "Layer (type)                 Output Shape              Param #   \n",
      "=================================================================\n",
      "conv2d (Conv2D)              (None, 106, 86, 36)       1800      \n",
      "_________________________________________________________________\n",
      "max_pooling2d (MaxPooling2D) (None, 53, 43, 36)        0         \n",
      "_________________________________________________________________\n",
      "conv2d_1 (Conv2D)            (None, 49, 39, 54)        48654     \n",
      "_________________________________________________________________\n",
      "max_pooling2d_1 (MaxPooling2 (None, 24, 19, 54)        0         \n",
      "_________________________________________________________________\n",
      "flatten (Flatten)            (None, 24624)             0         \n",
      "_________________________________________________________________\n",
      "dense (Dense)                (None, 2024)              49841000  \n",
      "_________________________________________________________________\n",
      "dropout (Dropout)            (None, 2024)              0         \n",
      "_________________________________________________________________\n",
      "dense_1 (Dense)              (None, 1024)              2073600   \n",
      "_________________________________________________________________\n",
      "dropout_1 (Dropout)          (None, 1024)              0         \n",
      "_________________________________________________________________\n",
      "dense_2 (Dense)              (None, 512)               524800    \n",
      "_________________________________________________________________\n",
      "dropout_2 (Dropout)          (None, 512)               0         \n",
      "_________________________________________________________________\n",
      "dense_3 (Dense)              (None, 20)                10260     \n",
      "=================================================================\n",
      "Total params: 52,500,114\n",
      "Trainable params: 52,500,114\n",
      "Non-trainable params: 0\n",
      "_________________________________________________________________\n"
     ]
    }
   ],
   "source": [
    "\n",
    "cnn_model.summary()"
   ]
  },
  {
   "cell_type": "markdown",
   "id": "7fc1ca71",
   "metadata": {
    "_cell_guid": "0178b55f-be17-454d-ac1a-21dd146ead5b",
    "_kg_hide-input": true,
    "_uuid": "7d67fe7b-ae0c-400e-9a5b-5b89a4bb53c9",
    "papermill": {
     "duration": 0.011917,
     "end_time": "2021-07-26T18:19:45.542055",
     "exception": false,
     "start_time": "2021-07-26T18:19:45.530138",
     "status": "completed"
    },
    "tags": []
   },
   "source": [
    "# Step 6\n",
    "Train the Model\n",
    "\n",
    "Note: You can change the number of epochs"
   ]
  },
  {
   "cell_type": "code",
   "execution_count": 7,
   "id": "80594c1d",
   "metadata": {
    "_cell_guid": "5ea83ac6-e280-4719-899d-65095f08200d",
    "_uuid": "9a0aa71f-d073-4aad-b279-7c6ffeb5c3bf",
    "execution": {
     "iopub.execute_input": "2021-07-26T18:19:45.569724Z",
     "iopub.status.busy": "2021-07-26T18:19:45.568823Z",
     "iopub.status.idle": "2021-07-26T18:34:02.035370Z",
     "shell.execute_reply": "2021-07-26T18:34:02.034884Z",
     "shell.execute_reply.started": "2021-07-26T17:54:21.222794Z"
    },
    "jupyter": {
     "outputs_hidden": false
    },
    "papermill": {
     "duration": 856.481404,
     "end_time": "2021-07-26T18:34:02.035524",
     "exception": false,
     "start_time": "2021-07-26T18:19:45.554120",
     "status": "completed"
    },
    "tags": []
   },
   "outputs": [
    {
     "name": "stdout",
     "output_type": "stream",
     "text": [
      "Epoch 1/250\n",
      "1/1 - 5s - loss: 3.0126 - accuracy: 0.0526 - val_loss: 2.9990 - val_accuracy: 0.0000e+00\n",
      "Epoch 2/250\n",
      "1/1 - 3s - loss: 3.0270 - accuracy: 0.0351 - val_loss: 2.9922 - val_accuracy: 0.0000e+00\n",
      "Epoch 3/250\n",
      "1/1 - 3s - loss: 3.0052 - accuracy: 0.0702 - val_loss: 2.9856 - val_accuracy: 0.0000e+00\n",
      "Epoch 4/250\n",
      "1/1 - 3s - loss: 3.0051 - accuracy: 0.0789 - val_loss: 2.9885 - val_accuracy: 0.0833\n",
      "Epoch 5/250\n",
      "1/1 - 3s - loss: 2.9932 - accuracy: 0.0570 - val_loss: 2.9892 - val_accuracy: 0.0000e+00\n",
      "Epoch 6/250\n",
      "1/1 - 3s - loss: 2.9784 - accuracy: 0.0789 - val_loss: 2.9890 - val_accuracy: 0.0000e+00\n",
      "Epoch 7/250\n",
      "1/1 - 3s - loss: 2.9951 - accuracy: 0.0526 - val_loss: 2.9939 - val_accuracy: 0.0000e+00\n",
      "Epoch 8/250\n",
      "1/1 - 3s - loss: 2.9877 - accuracy: 0.0877 - val_loss: 2.9954 - val_accuracy: 0.0000e+00\n",
      "Epoch 9/250\n",
      "1/1 - 3s - loss: 2.9659 - accuracy: 0.0614 - val_loss: 2.9978 - val_accuracy: 0.0000e+00\n",
      "Epoch 10/250\n",
      "1/1 - 4s - loss: 3.0117 - accuracy: 0.0614 - val_loss: 2.9982 - val_accuracy: 0.0000e+00\n",
      "Epoch 11/250\n",
      "1/1 - 3s - loss: 2.9671 - accuracy: 0.0526 - val_loss: 2.9978 - val_accuracy: 0.0000e+00\n",
      "Epoch 12/250\n",
      "1/1 - 3s - loss: 2.9666 - accuracy: 0.0614 - val_loss: 2.9970 - val_accuracy: 0.0000e+00\n",
      "Epoch 13/250\n",
      "1/1 - 3s - loss: 2.9621 - accuracy: 0.0921 - val_loss: 2.9948 - val_accuracy: 0.0000e+00\n",
      "Epoch 14/250\n",
      "1/1 - 3s - loss: 2.9595 - accuracy: 0.0921 - val_loss: 2.9923 - val_accuracy: 0.0833\n",
      "Epoch 15/250\n",
      "1/1 - 3s - loss: 2.9618 - accuracy: 0.0877 - val_loss: 2.9890 - val_accuracy: 0.0833\n",
      "Epoch 16/250\n",
      "1/1 - 3s - loss: 2.9440 - accuracy: 0.1053 - val_loss: 2.9861 - val_accuracy: 0.0833\n",
      "Epoch 17/250\n",
      "1/1 - 3s - loss: 2.9534 - accuracy: 0.0965 - val_loss: 2.9808 - val_accuracy: 0.0833\n",
      "Epoch 18/250\n",
      "1/1 - 3s - loss: 2.9382 - accuracy: 0.1228 - val_loss: 2.9746 - val_accuracy: 0.0833\n",
      "Epoch 19/250\n",
      "1/1 - 4s - loss: 2.9100 - accuracy: 0.1228 - val_loss: 2.9702 - val_accuracy: 0.0833\n",
      "Epoch 20/250\n",
      "1/1 - 3s - loss: 2.9124 - accuracy: 0.1053 - val_loss: 2.9632 - val_accuracy: 0.0833\n",
      "Epoch 21/250\n",
      "1/1 - 3s - loss: 2.9013 - accuracy: 0.1447 - val_loss: 2.9552 - val_accuracy: 0.0833\n",
      "Epoch 22/250\n",
      "1/1 - 3s - loss: 2.9109 - accuracy: 0.1228 - val_loss: 2.9452 - val_accuracy: 0.0833\n",
      "Epoch 23/250\n",
      "1/1 - 3s - loss: 2.9109 - accuracy: 0.1009 - val_loss: 2.9350 - val_accuracy: 0.0833\n",
      "Epoch 24/250\n",
      "1/1 - 3s - loss: 2.8840 - accuracy: 0.1096 - val_loss: 2.9222 - val_accuracy: 0.0833\n",
      "Epoch 25/250\n",
      "1/1 - 3s - loss: 2.8915 - accuracy: 0.1272 - val_loss: 2.9067 - val_accuracy: 0.0833\n",
      "Epoch 26/250\n",
      "1/1 - 3s - loss: 2.8596 - accuracy: 0.1842 - val_loss: 2.8911 - val_accuracy: 0.0833\n",
      "Epoch 27/250\n",
      "1/1 - 3s - loss: 2.8417 - accuracy: 0.1754 - val_loss: 2.8767 - val_accuracy: 0.0833\n",
      "Epoch 28/250\n",
      "1/1 - 4s - loss: 2.8444 - accuracy: 0.1579 - val_loss: 2.8630 - val_accuracy: 0.0833\n",
      "Epoch 29/250\n",
      "1/1 - 4s - loss: 2.8210 - accuracy: 0.1579 - val_loss: 2.8502 - val_accuracy: 0.0833\n",
      "Epoch 30/250\n",
      "1/1 - 3s - loss: 2.8361 - accuracy: 0.1842 - val_loss: 2.8305 - val_accuracy: 0.0833\n",
      "Epoch 31/250\n",
      "1/1 - 3s - loss: 2.7196 - accuracy: 0.2325 - val_loss: 2.8116 - val_accuracy: 0.0833\n",
      "Epoch 32/250\n",
      "1/1 - 3s - loss: 2.7263 - accuracy: 0.2237 - val_loss: 2.7932 - val_accuracy: 0.0833\n",
      "Epoch 33/250\n",
      "1/1 - 3s - loss: 2.7577 - accuracy: 0.2061 - val_loss: 2.7722 - val_accuracy: 0.0833\n",
      "Epoch 34/250\n",
      "1/1 - 3s - loss: 2.6836 - accuracy: 0.2544 - val_loss: 2.7464 - val_accuracy: 0.0833\n",
      "Epoch 35/250\n",
      "1/1 - 3s - loss: 2.6109 - accuracy: 0.3158 - val_loss: 2.7163 - val_accuracy: 0.0833\n",
      "Epoch 36/250\n",
      "1/1 - 3s - loss: 2.5933 - accuracy: 0.2982 - val_loss: 2.6894 - val_accuracy: 0.0833\n",
      "Epoch 37/250\n",
      "1/1 - 3s - loss: 2.5787 - accuracy: 0.2895 - val_loss: 2.6559 - val_accuracy: 0.0833\n",
      "Epoch 38/250\n",
      "1/1 - 4s - loss: 2.6096 - accuracy: 0.2368 - val_loss: 2.6144 - val_accuracy: 0.0833\n",
      "Epoch 39/250\n",
      "1/1 - 3s - loss: 2.4624 - accuracy: 0.3070 - val_loss: 2.5668 - val_accuracy: 0.1667\n",
      "Epoch 40/250\n",
      "1/1 - 4s - loss: 2.4970 - accuracy: 0.3026 - val_loss: 2.5093 - val_accuracy: 0.1667\n",
      "Epoch 41/250\n",
      "1/1 - 3s - loss: 2.5085 - accuracy: 0.2675 - val_loss: 2.4539 - val_accuracy: 0.2500\n",
      "Epoch 42/250\n",
      "1/1 - 3s - loss: 2.3819 - accuracy: 0.3728 - val_loss: 2.3985 - val_accuracy: 0.2500\n",
      "Epoch 43/250\n",
      "1/1 - 3s - loss: 2.3368 - accuracy: 0.3860 - val_loss: 2.3427 - val_accuracy: 0.2500\n",
      "Epoch 44/250\n",
      "1/1 - 3s - loss: 2.2664 - accuracy: 0.3816 - val_loss: 2.2799 - val_accuracy: 0.3333\n",
      "Epoch 45/250\n",
      "1/1 - 3s - loss: 2.1958 - accuracy: 0.3684 - val_loss: 2.2136 - val_accuracy: 0.5000\n",
      "Epoch 46/250\n",
      "1/1 - 4s - loss: 2.1739 - accuracy: 0.3728 - val_loss: 2.1487 - val_accuracy: 0.5000\n",
      "Epoch 47/250\n",
      "1/1 - 3s - loss: 2.1531 - accuracy: 0.3553 - val_loss: 2.0750 - val_accuracy: 0.5000\n",
      "Epoch 48/250\n",
      "1/1 - 4s - loss: 2.0716 - accuracy: 0.4035 - val_loss: 2.0031 - val_accuracy: 0.5000\n",
      "Epoch 49/250\n",
      "1/1 - 3s - loss: 2.0301 - accuracy: 0.3904 - val_loss: 1.9375 - val_accuracy: 0.5000\n",
      "Epoch 50/250\n",
      "1/1 - 4s - loss: 1.9790 - accuracy: 0.4430 - val_loss: 1.8798 - val_accuracy: 0.5000\n",
      "Epoch 51/250\n",
      "1/1 - 3s - loss: 1.9876 - accuracy: 0.4035 - val_loss: 1.8307 - val_accuracy: 0.5000\n",
      "Epoch 52/250\n",
      "1/1 - 3s - loss: 1.9365 - accuracy: 0.3991 - val_loss: 1.7796 - val_accuracy: 0.5000\n",
      "Epoch 53/250\n",
      "1/1 - 3s - loss: 1.7662 - accuracy: 0.4561 - val_loss: 1.7086 - val_accuracy: 0.6667\n",
      "Epoch 54/250\n",
      "1/1 - 3s - loss: 1.8135 - accuracy: 0.4868 - val_loss: 1.6462 - val_accuracy: 0.7500\n",
      "Epoch 55/250\n",
      "1/1 - 3s - loss: 1.6531 - accuracy: 0.4912 - val_loss: 1.5773 - val_accuracy: 0.8333\n",
      "Epoch 56/250\n",
      "1/1 - 3s - loss: 1.6399 - accuracy: 0.5439 - val_loss: 1.5055 - val_accuracy: 0.8333\n",
      "Epoch 57/250\n",
      "1/1 - 4s - loss: 1.5668 - accuracy: 0.5175 - val_loss: 1.4240 - val_accuracy: 0.8333\n",
      "Epoch 58/250\n",
      "1/1 - 3s - loss: 1.4570 - accuracy: 0.5921 - val_loss: 1.3296 - val_accuracy: 0.8333\n",
      "Epoch 59/250\n",
      "1/1 - 3s - loss: 1.4910 - accuracy: 0.5658 - val_loss: 1.2462 - val_accuracy: 0.9167\n",
      "Epoch 60/250\n",
      "1/1 - 3s - loss: 1.3852 - accuracy: 0.5746 - val_loss: 1.1753 - val_accuracy: 0.9167\n",
      "Epoch 61/250\n",
      "1/1 - 3s - loss: 1.3479 - accuracy: 0.6053 - val_loss: 1.1133 - val_accuracy: 1.0000\n",
      "Epoch 62/250\n",
      "1/1 - 3s - loss: 1.3326 - accuracy: 0.6184 - val_loss: 1.0663 - val_accuracy: 1.0000\n",
      "Epoch 63/250\n",
      "1/1 - 3s - loss: 1.1709 - accuracy: 0.7237 - val_loss: 0.9997 - val_accuracy: 1.0000\n",
      "Epoch 64/250\n",
      "1/1 - 3s - loss: 1.2364 - accuracy: 0.6404 - val_loss: 0.9381 - val_accuracy: 1.0000\n",
      "Epoch 65/250\n",
      "1/1 - 3s - loss: 1.1650 - accuracy: 0.6491 - val_loss: 0.8924 - val_accuracy: 0.9167\n",
      "Epoch 66/250\n",
      "1/1 - 3s - loss: 1.0808 - accuracy: 0.7061 - val_loss: 0.8422 - val_accuracy: 0.9167\n",
      "Epoch 67/250\n",
      "1/1 - 4s - loss: 1.1188 - accuracy: 0.6623 - val_loss: 0.8027 - val_accuracy: 0.9167\n",
      "Epoch 68/250\n",
      "1/1 - 3s - loss: 1.0811 - accuracy: 0.6754 - val_loss: 0.7671 - val_accuracy: 0.8333\n",
      "Epoch 69/250\n",
      "1/1 - 3s - loss: 0.9917 - accuracy: 0.7325 - val_loss: 0.6841 - val_accuracy: 1.0000\n",
      "Epoch 70/250\n",
      "1/1 - 3s - loss: 0.9581 - accuracy: 0.7061 - val_loss: 0.6165 - val_accuracy: 1.0000\n",
      "Epoch 71/250\n",
      "1/1 - 3s - loss: 0.9448 - accuracy: 0.7061 - val_loss: 0.5651 - val_accuracy: 1.0000\n",
      "Epoch 72/250\n",
      "1/1 - 3s - loss: 0.7874 - accuracy: 0.7939 - val_loss: 0.5085 - val_accuracy: 1.0000\n",
      "Epoch 73/250\n",
      "1/1 - 3s - loss: 0.8084 - accuracy: 0.7807 - val_loss: 0.4613 - val_accuracy: 1.0000\n",
      "Epoch 74/250\n",
      "1/1 - 3s - loss: 0.7961 - accuracy: 0.7851 - val_loss: 0.4227 - val_accuracy: 1.0000\n",
      "Epoch 75/250\n",
      "1/1 - 4s - loss: 0.7176 - accuracy: 0.7895 - val_loss: 0.3785 - val_accuracy: 1.0000\n",
      "Epoch 76/250\n",
      "1/1 - 4s - loss: 0.7308 - accuracy: 0.8202 - val_loss: 0.3355 - val_accuracy: 1.0000\n",
      "Epoch 77/250\n",
      "1/1 - 3s - loss: 0.6685 - accuracy: 0.7807 - val_loss: 0.2971 - val_accuracy: 1.0000\n",
      "Epoch 78/250\n",
      "1/1 - 3s - loss: 0.6503 - accuracy: 0.8289 - val_loss: 0.2652 - val_accuracy: 1.0000\n",
      "Epoch 79/250\n",
      "1/1 - 3s - loss: 0.5991 - accuracy: 0.8026 - val_loss: 0.2481 - val_accuracy: 1.0000\n",
      "Epoch 80/250\n",
      "1/1 - 3s - loss: 0.5284 - accuracy: 0.8728 - val_loss: 0.2396 - val_accuracy: 1.0000\n",
      "Epoch 81/250\n",
      "1/1 - 3s - loss: 0.5453 - accuracy: 0.8333 - val_loss: 0.2191 - val_accuracy: 1.0000\n",
      "Epoch 82/250\n",
      "1/1 - 3s - loss: 0.4759 - accuracy: 0.8728 - val_loss: 0.2137 - val_accuracy: 1.0000\n",
      "Epoch 83/250\n",
      "1/1 - 3s - loss: 0.4365 - accuracy: 0.8904 - val_loss: 0.2015 - val_accuracy: 1.0000\n",
      "Epoch 84/250\n",
      "1/1 - 3s - loss: 0.5264 - accuracy: 0.8553 - val_loss: 0.1812 - val_accuracy: 1.0000\n",
      "Epoch 85/250\n",
      "1/1 - 3s - loss: 0.4319 - accuracy: 0.8904 - val_loss: 0.1576 - val_accuracy: 1.0000\n",
      "Epoch 86/250\n",
      "1/1 - 4s - loss: 0.4304 - accuracy: 0.8860 - val_loss: 0.1482 - val_accuracy: 1.0000\n",
      "Epoch 87/250\n",
      "1/1 - 3s - loss: 0.4737 - accuracy: 0.8640 - val_loss: 0.1398 - val_accuracy: 1.0000\n",
      "Epoch 88/250\n",
      "1/1 - 3s - loss: 0.4249 - accuracy: 0.8728 - val_loss: 0.1240 - val_accuracy: 1.0000\n",
      "Epoch 89/250\n",
      "1/1 - 3s - loss: 0.3777 - accuracy: 0.9079 - val_loss: 0.1092 - val_accuracy: 1.0000\n",
      "Epoch 90/250\n",
      "1/1 - 3s - loss: 0.3416 - accuracy: 0.9079 - val_loss: 0.0993 - val_accuracy: 1.0000\n",
      "Epoch 91/250\n",
      "1/1 - 3s - loss: 0.3109 - accuracy: 0.9342 - val_loss: 0.1043 - val_accuracy: 1.0000\n",
      "Epoch 92/250\n",
      "1/1 - 3s - loss: 0.3529 - accuracy: 0.8860 - val_loss: 0.1014 - val_accuracy: 1.0000\n",
      "Epoch 93/250\n",
      "1/1 - 3s - loss: 0.2719 - accuracy: 0.9386 - val_loss: 0.0807 - val_accuracy: 1.0000\n",
      "Epoch 94/250\n",
      "1/1 - 3s - loss: 0.3049 - accuracy: 0.9035 - val_loss: 0.0665 - val_accuracy: 1.0000\n",
      "Epoch 95/250\n",
      "1/1 - 4s - loss: 0.2506 - accuracy: 0.9386 - val_loss: 0.0645 - val_accuracy: 1.0000\n",
      "Epoch 96/250\n",
      "1/1 - 3s - loss: 0.3006 - accuracy: 0.9342 - val_loss: 0.0684 - val_accuracy: 1.0000\n",
      "Epoch 97/250\n",
      "1/1 - 3s - loss: 0.2242 - accuracy: 0.9518 - val_loss: 0.0601 - val_accuracy: 1.0000\n",
      "Epoch 98/250\n",
      "1/1 - 3s - loss: 0.2770 - accuracy: 0.9211 - val_loss: 0.0595 - val_accuracy: 1.0000\n",
      "Epoch 99/250\n",
      "1/1 - 3s - loss: 0.2210 - accuracy: 0.9386 - val_loss: 0.0571 - val_accuracy: 1.0000\n",
      "Epoch 100/250\n",
      "1/1 - 3s - loss: 0.2101 - accuracy: 0.9386 - val_loss: 0.0567 - val_accuracy: 1.0000\n",
      "Epoch 101/250\n",
      "1/1 - 3s - loss: 0.2118 - accuracy: 0.9474 - val_loss: 0.0624 - val_accuracy: 1.0000\n",
      "Epoch 102/250\n",
      "1/1 - 3s - loss: 0.1723 - accuracy: 0.9649 - val_loss: 0.0525 - val_accuracy: 1.0000\n",
      "Epoch 103/250\n",
      "1/1 - 3s - loss: 0.1972 - accuracy: 0.9430 - val_loss: 0.0458 - val_accuracy: 1.0000\n",
      "Epoch 104/250\n",
      "1/1 - 3s - loss: 0.2012 - accuracy: 0.9561 - val_loss: 0.0390 - val_accuracy: 1.0000\n",
      "Epoch 105/250\n",
      "1/1 - 4s - loss: 0.1410 - accuracy: 0.9781 - val_loss: 0.0397 - val_accuracy: 1.0000\n",
      "Epoch 106/250\n",
      "1/1 - 3s - loss: 0.1832 - accuracy: 0.9474 - val_loss: 0.0471 - val_accuracy: 1.0000\n",
      "Epoch 107/250\n",
      "1/1 - 3s - loss: 0.2032 - accuracy: 0.9254 - val_loss: 0.0453 - val_accuracy: 1.0000\n",
      "Epoch 108/250\n",
      "1/1 - 3s - loss: 0.1243 - accuracy: 0.9825 - val_loss: 0.0404 - val_accuracy: 1.0000\n",
      "Epoch 109/250\n",
      "1/1 - 3s - loss: 0.1262 - accuracy: 0.9693 - val_loss: 0.0273 - val_accuracy: 1.0000\n",
      "Epoch 110/250\n",
      "1/1 - 3s - loss: 0.1432 - accuracy: 0.9474 - val_loss: 0.0221 - val_accuracy: 1.0000\n",
      "Epoch 111/250\n",
      "1/1 - 3s - loss: 0.1818 - accuracy: 0.9518 - val_loss: 0.0172 - val_accuracy: 1.0000\n",
      "Epoch 112/250\n",
      "1/1 - 3s - loss: 0.1295 - accuracy: 0.9781 - val_loss: 0.0141 - val_accuracy: 1.0000\n",
      "Epoch 113/250\n",
      "1/1 - 3s - loss: 0.1522 - accuracy: 0.9561 - val_loss: 0.0135 - val_accuracy: 1.0000\n",
      "Epoch 114/250\n",
      "1/1 - 3s - loss: 0.1179 - accuracy: 0.9825 - val_loss: 0.0140 - val_accuracy: 1.0000\n",
      "Epoch 115/250\n",
      "1/1 - 4s - loss: 0.0929 - accuracy: 0.9912 - val_loss: 0.0184 - val_accuracy: 1.0000\n",
      "Epoch 116/250\n",
      "1/1 - 3s - loss: 0.1058 - accuracy: 0.9868 - val_loss: 0.0220 - val_accuracy: 1.0000\n",
      "Epoch 117/250\n",
      "1/1 - 3s - loss: 0.1034 - accuracy: 0.9781 - val_loss: 0.0169 - val_accuracy: 1.0000\n",
      "Epoch 118/250\n",
      "1/1 - 3s - loss: 0.1009 - accuracy: 0.9693 - val_loss: 0.0109 - val_accuracy: 1.0000\n",
      "Epoch 119/250\n",
      "1/1 - 3s - loss: 0.0904 - accuracy: 0.9781 - val_loss: 0.0095 - val_accuracy: 1.0000\n",
      "Epoch 120/250\n",
      "1/1 - 3s - loss: 0.1033 - accuracy: 0.9912 - val_loss: 0.0098 - val_accuracy: 1.0000\n",
      "Epoch 121/250\n",
      "1/1 - 3s - loss: 0.1234 - accuracy: 0.9737 - val_loss: 0.0120 - val_accuracy: 1.0000\n",
      "Epoch 122/250\n",
      "1/1 - 3s - loss: 0.0684 - accuracy: 0.9825 - val_loss: 0.0177 - val_accuracy: 1.0000\n",
      "Epoch 123/250\n",
      "1/1 - 3s - loss: 0.0838 - accuracy: 0.9825 - val_loss: 0.0308 - val_accuracy: 1.0000\n",
      "Epoch 124/250\n",
      "1/1 - 4s - loss: 0.1016 - accuracy: 0.9781 - val_loss: 0.0381 - val_accuracy: 1.0000\n",
      "Epoch 125/250\n",
      "1/1 - 4s - loss: 0.1232 - accuracy: 0.9605 - val_loss: 0.0219 - val_accuracy: 1.0000\n",
      "Epoch 126/250\n",
      "1/1 - 3s - loss: 0.0952 - accuracy: 0.9649 - val_loss: 0.0095 - val_accuracy: 1.0000\n",
      "Epoch 127/250\n",
      "1/1 - 3s - loss: 0.0956 - accuracy: 0.9737 - val_loss: 0.0065 - val_accuracy: 1.0000\n",
      "Epoch 128/250\n",
      "1/1 - 3s - loss: 0.1113 - accuracy: 0.9825 - val_loss: 0.0062 - val_accuracy: 1.0000\n",
      "Epoch 129/250\n",
      "1/1 - 3s - loss: 0.0625 - accuracy: 0.9956 - val_loss: 0.0063 - val_accuracy: 1.0000\n",
      "Epoch 130/250\n",
      "1/1 - 3s - loss: 0.0818 - accuracy: 0.9912 - val_loss: 0.0097 - val_accuracy: 1.0000\n",
      "Epoch 131/250\n",
      "1/1 - 3s - loss: 0.0724 - accuracy: 0.9737 - val_loss: 0.0150 - val_accuracy: 1.0000\n",
      "Epoch 132/250\n",
      "1/1 - 3s - loss: 0.0640 - accuracy: 0.9912 - val_loss: 0.0186 - val_accuracy: 1.0000\n",
      "Epoch 133/250\n",
      "1/1 - 3s - loss: 0.0856 - accuracy: 0.9868 - val_loss: 0.0142 - val_accuracy: 1.0000\n",
      "Epoch 134/250\n",
      "1/1 - 4s - loss: 0.0567 - accuracy: 0.9956 - val_loss: 0.0079 - val_accuracy: 1.0000\n",
      "Epoch 135/250\n",
      "1/1 - 3s - loss: 0.0966 - accuracy: 0.9781 - val_loss: 0.0050 - val_accuracy: 1.0000\n",
      "Epoch 136/250\n",
      "1/1 - 3s - loss: 0.0763 - accuracy: 0.9868 - val_loss: 0.0051 - val_accuracy: 1.0000\n",
      "Epoch 137/250\n",
      "1/1 - 3s - loss: 0.0597 - accuracy: 0.9956 - val_loss: 0.0048 - val_accuracy: 1.0000\n",
      "Epoch 138/250\n",
      "1/1 - 3s - loss: 0.0502 - accuracy: 0.9956 - val_loss: 0.0051 - val_accuracy: 1.0000\n",
      "Epoch 139/250\n",
      "1/1 - 3s - loss: 0.0618 - accuracy: 0.9825 - val_loss: 0.0063 - val_accuracy: 1.0000\n",
      "Epoch 140/250\n",
      "1/1 - 3s - loss: 0.0448 - accuracy: 0.9956 - val_loss: 0.0087 - val_accuracy: 1.0000\n",
      "Epoch 141/250\n",
      "1/1 - 3s - loss: 0.0596 - accuracy: 0.9825 - val_loss: 0.0123 - val_accuracy: 1.0000\n",
      "Epoch 142/250\n",
      "1/1 - 3s - loss: 0.0696 - accuracy: 0.9825 - val_loss: 0.0119 - val_accuracy: 1.0000\n",
      "Epoch 143/250\n",
      "1/1 - 3s - loss: 0.0738 - accuracy: 0.9825 - val_loss: 0.0088 - val_accuracy: 1.0000\n",
      "Epoch 144/250\n",
      "1/1 - 4s - loss: 0.0608 - accuracy: 0.9781 - val_loss: 0.0059 - val_accuracy: 1.0000\n",
      "Epoch 145/250\n",
      "1/1 - 3s - loss: 0.0409 - accuracy: 0.9956 - val_loss: 0.0044 - val_accuracy: 1.0000\n",
      "Epoch 146/250\n",
      "1/1 - 3s - loss: 0.0615 - accuracy: 0.9868 - val_loss: 0.0038 - val_accuracy: 1.0000\n",
      "Epoch 147/250\n",
      "1/1 - 3s - loss: 0.0430 - accuracy: 0.9868 - val_loss: 0.0035 - val_accuracy: 1.0000\n",
      "Epoch 148/250\n",
      "1/1 - 3s - loss: 0.0649 - accuracy: 0.9825 - val_loss: 0.0041 - val_accuracy: 1.0000\n",
      "Epoch 149/250\n",
      "1/1 - 3s - loss: 0.0678 - accuracy: 0.9737 - val_loss: 0.0056 - val_accuracy: 1.0000\n",
      "Epoch 150/250\n",
      "1/1 - 3s - loss: 0.0533 - accuracy: 0.9912 - val_loss: 0.0083 - val_accuracy: 1.0000\n",
      "Epoch 151/250\n",
      "1/1 - 3s - loss: 0.0384 - accuracy: 0.9956 - val_loss: 0.0096 - val_accuracy: 1.0000\n",
      "Epoch 152/250\n",
      "1/1 - 3s - loss: 0.0547 - accuracy: 0.9825 - val_loss: 0.0106 - val_accuracy: 1.0000\n",
      "Epoch 153/250\n",
      "1/1 - 3s - loss: 0.0391 - accuracy: 0.9868 - val_loss: 0.0075 - val_accuracy: 1.0000\n",
      "Epoch 154/250\n",
      "1/1 - 3s - loss: 0.0462 - accuracy: 0.9912 - val_loss: 0.0053 - val_accuracy: 1.0000\n",
      "Epoch 155/250\n",
      "1/1 - 3s - loss: 0.0393 - accuracy: 0.9956 - val_loss: 0.0029 - val_accuracy: 1.0000\n",
      "Epoch 156/250\n",
      "1/1 - 4s - loss: 0.0670 - accuracy: 0.9868 - val_loss: 0.0024 - val_accuracy: 1.0000\n",
      "Epoch 157/250\n",
      "1/1 - 3s - loss: 0.0476 - accuracy: 0.9956 - val_loss: 0.0022 - val_accuracy: 1.0000\n",
      "Epoch 158/250\n",
      "1/1 - 3s - loss: 0.0203 - accuracy: 1.0000 - val_loss: 0.0023 - val_accuracy: 1.0000\n",
      "Epoch 159/250\n",
      "1/1 - 3s - loss: 0.0409 - accuracy: 0.9825 - val_loss: 0.0022 - val_accuracy: 1.0000\n",
      "Epoch 160/250\n",
      "1/1 - 3s - loss: 0.0311 - accuracy: 0.9956 - val_loss: 0.0022 - val_accuracy: 1.0000\n",
      "Epoch 161/250\n",
      "1/1 - 3s - loss: 0.0392 - accuracy: 0.9912 - val_loss: 0.0026 - val_accuracy: 1.0000\n",
      "Epoch 162/250\n",
      "1/1 - 3s - loss: 0.0270 - accuracy: 0.9956 - val_loss: 0.0030 - val_accuracy: 1.0000\n",
      "Epoch 163/250\n",
      "1/1 - 3s - loss: 0.0266 - accuracy: 1.0000 - val_loss: 0.0036 - val_accuracy: 1.0000\n",
      "Epoch 164/250\n",
      "1/1 - 3s - loss: 0.0364 - accuracy: 0.9912 - val_loss: 0.0036 - val_accuracy: 1.0000\n",
      "Epoch 165/250\n",
      "1/1 - 3s - loss: 0.0203 - accuracy: 0.9956 - val_loss: 0.0039 - val_accuracy: 1.0000\n",
      "Epoch 166/250\n",
      "1/1 - 4s - loss: 0.0251 - accuracy: 1.0000 - val_loss: 0.0036 - val_accuracy: 1.0000\n",
      "Epoch 167/250\n",
      "1/1 - 3s - loss: 0.0259 - accuracy: 0.9956 - val_loss: 0.0031 - val_accuracy: 1.0000\n",
      "Epoch 168/250\n",
      "1/1 - 3s - loss: 0.0507 - accuracy: 0.9825 - val_loss: 0.0022 - val_accuracy: 1.0000\n",
      "Epoch 169/250\n",
      "1/1 - 3s - loss: 0.0437 - accuracy: 0.9912 - val_loss: 0.0017 - val_accuracy: 1.0000\n",
      "Epoch 170/250\n",
      "1/1 - 3s - loss: 0.0318 - accuracy: 0.9912 - val_loss: 0.0015 - val_accuracy: 1.0000\n",
      "Epoch 171/250\n",
      "1/1 - 3s - loss: 0.0214 - accuracy: 1.0000 - val_loss: 0.0014 - val_accuracy: 1.0000\n",
      "Epoch 172/250\n",
      "1/1 - 3s - loss: 0.0344 - accuracy: 0.9912 - val_loss: 0.0013 - val_accuracy: 1.0000\n",
      "Epoch 173/250\n",
      "1/1 - 3s - loss: 0.0192 - accuracy: 1.0000 - val_loss: 0.0013 - val_accuracy: 1.0000\n",
      "Epoch 174/250\n",
      "1/1 - 3s - loss: 0.0339 - accuracy: 0.9912 - val_loss: 0.0017 - val_accuracy: 1.0000\n",
      "Epoch 175/250\n",
      "1/1 - 4s - loss: 0.0268 - accuracy: 0.9956 - val_loss: 0.0026 - val_accuracy: 1.0000\n",
      "Epoch 176/250\n",
      "1/1 - 3s - loss: 0.0233 - accuracy: 0.9956 - val_loss: 0.0038 - val_accuracy: 1.0000\n",
      "Epoch 177/250\n",
      "1/1 - 3s - loss: 0.0308 - accuracy: 0.9956 - val_loss: 0.0058 - val_accuracy: 1.0000\n",
      "Epoch 178/250\n",
      "1/1 - 3s - loss: 0.0272 - accuracy: 0.9912 - val_loss: 0.0069 - val_accuracy: 1.0000\n",
      "Epoch 179/250\n",
      "1/1 - 3s - loss: 0.0417 - accuracy: 0.9912 - val_loss: 0.0039 - val_accuracy: 1.0000\n",
      "Epoch 180/250\n",
      "1/1 - 3s - loss: 0.0215 - accuracy: 1.0000 - val_loss: 0.0019 - val_accuracy: 1.0000\n",
      "Epoch 181/250\n",
      "1/1 - 3s - loss: 0.0315 - accuracy: 1.0000 - val_loss: 0.0010 - val_accuracy: 1.0000\n",
      "Epoch 182/250\n",
      "1/1 - 3s - loss: 0.0371 - accuracy: 1.0000 - val_loss: 8.1135e-04 - val_accuracy: 1.0000\n",
      "Epoch 183/250\n",
      "1/1 - 3s - loss: 0.0258 - accuracy: 0.9956 - val_loss: 8.0742e-04 - val_accuracy: 1.0000\n",
      "Epoch 184/250\n",
      "1/1 - 3s - loss: 0.0227 - accuracy: 1.0000 - val_loss: 9.4335e-04 - val_accuracy: 1.0000\n",
      "Epoch 185/250\n",
      "1/1 - 4s - loss: 0.0243 - accuracy: 0.9956 - val_loss: 0.0014 - val_accuracy: 1.0000\n",
      "Epoch 186/250\n",
      "1/1 - 3s - loss: 0.0182 - accuracy: 0.9956 - val_loss: 0.0022 - val_accuracy: 1.0000\n",
      "Epoch 187/250\n",
      "1/1 - 3s - loss: 0.0368 - accuracy: 0.9912 - val_loss: 0.0028 - val_accuracy: 1.0000\n",
      "Epoch 188/250\n",
      "1/1 - 3s - loss: 0.0246 - accuracy: 0.9912 - val_loss: 0.0027 - val_accuracy: 1.0000\n",
      "Epoch 189/250\n",
      "1/1 - 3s - loss: 0.0258 - accuracy: 0.9956 - val_loss: 0.0021 - val_accuracy: 1.0000\n",
      "Epoch 190/250\n",
      "1/1 - 3s - loss: 0.0205 - accuracy: 1.0000 - val_loss: 0.0015 - val_accuracy: 1.0000\n",
      "Epoch 191/250\n",
      "1/1 - 3s - loss: 0.0252 - accuracy: 1.0000 - val_loss: 0.0011 - val_accuracy: 1.0000\n",
      "Epoch 192/250\n",
      "1/1 - 3s - loss: 0.0332 - accuracy: 0.9868 - val_loss: 9.7246e-04 - val_accuracy: 1.0000\n",
      "Epoch 193/250\n",
      "1/1 - 3s - loss: 0.0272 - accuracy: 0.9956 - val_loss: 9.4001e-04 - val_accuracy: 1.0000\n",
      "Epoch 194/250\n",
      "1/1 - 3s - loss: 0.0286 - accuracy: 0.9868 - val_loss: 9.5726e-04 - val_accuracy: 1.0000\n",
      "Epoch 195/250\n",
      "1/1 - 4s - loss: 0.0213 - accuracy: 0.9956 - val_loss: 0.0011 - val_accuracy: 1.0000\n",
      "Epoch 196/250\n",
      "1/1 - 3s - loss: 0.0162 - accuracy: 1.0000 - val_loss: 0.0012 - val_accuracy: 1.0000\n",
      "Epoch 197/250\n",
      "1/1 - 3s - loss: 0.0157 - accuracy: 0.9956 - val_loss: 0.0013 - val_accuracy: 1.0000\n",
      "Epoch 198/250\n",
      "1/1 - 3s - loss: 0.0206 - accuracy: 0.9956 - val_loss: 0.0012 - val_accuracy: 1.0000\n",
      "Epoch 199/250\n",
      "1/1 - 3s - loss: 0.0202 - accuracy: 0.9956 - val_loss: 0.0013 - val_accuracy: 1.0000\n",
      "Epoch 200/250\n",
      "1/1 - 3s - loss: 0.0110 - accuracy: 1.0000 - val_loss: 0.0012 - val_accuracy: 1.0000\n",
      "Epoch 201/250\n",
      "1/1 - 3s - loss: 0.0251 - accuracy: 1.0000 - val_loss: 9.6885e-04 - val_accuracy: 1.0000\n",
      "Epoch 202/250\n",
      "1/1 - 3s - loss: 0.0223 - accuracy: 0.9956 - val_loss: 6.8044e-04 - val_accuracy: 1.0000\n",
      "Epoch 203/250\n",
      "1/1 - 3s - loss: 0.0102 - accuracy: 1.0000 - val_loss: 5.1768e-04 - val_accuracy: 1.0000\n",
      "Epoch 204/250\n",
      "1/1 - 4s - loss: 0.0172 - accuracy: 0.9956 - val_loss: 4.5720e-04 - val_accuracy: 1.0000\n",
      "Epoch 205/250\n",
      "1/1 - 3s - loss: 0.0191 - accuracy: 0.9956 - val_loss: 4.7776e-04 - val_accuracy: 1.0000\n",
      "Epoch 206/250\n",
      "1/1 - 3s - loss: 0.0227 - accuracy: 1.0000 - val_loss: 5.8830e-04 - val_accuracy: 1.0000\n",
      "Epoch 207/250\n",
      "1/1 - 3s - loss: 0.0169 - accuracy: 0.9956 - val_loss: 7.7509e-04 - val_accuracy: 1.0000\n",
      "Epoch 208/250\n",
      "1/1 - 3s - loss: 0.0168 - accuracy: 0.9956 - val_loss: 9.2391e-04 - val_accuracy: 1.0000\n",
      "Epoch 209/250\n",
      "1/1 - 3s - loss: 0.0155 - accuracy: 1.0000 - val_loss: 0.0011 - val_accuracy: 1.0000\n",
      "Epoch 210/250\n",
      "1/1 - 3s - loss: 0.0158 - accuracy: 0.9956 - val_loss: 9.4481e-04 - val_accuracy: 1.0000\n",
      "Epoch 211/250\n",
      "1/1 - 3s - loss: 0.0286 - accuracy: 0.9912 - val_loss: 6.0312e-04 - val_accuracy: 1.0000\n",
      "Epoch 212/250\n",
      "1/1 - 3s - loss: 0.0194 - accuracy: 0.9956 - val_loss: 4.4468e-04 - val_accuracy: 1.0000\n",
      "Epoch 213/250\n",
      "1/1 - 3s - loss: 0.0318 - accuracy: 0.9868 - val_loss: 3.9425e-04 - val_accuracy: 1.0000\n",
      "Epoch 214/250\n",
      "1/1 - 4s - loss: 0.0128 - accuracy: 0.9956 - val_loss: 3.9505e-04 - val_accuracy: 1.0000\n",
      "Epoch 215/250\n",
      "1/1 - 3s - loss: 0.0121 - accuracy: 1.0000 - val_loss: 3.7706e-04 - val_accuracy: 1.0000\n",
      "Epoch 216/250\n",
      "1/1 - 3s - loss: 0.0193 - accuracy: 1.0000 - val_loss: 4.1789e-04 - val_accuracy: 1.0000\n",
      "Epoch 217/250\n",
      "1/1 - 3s - loss: 0.0186 - accuracy: 1.0000 - val_loss: 5.4611e-04 - val_accuracy: 1.0000\n",
      "Epoch 218/250\n",
      "1/1 - 3s - loss: 0.0119 - accuracy: 1.0000 - val_loss: 7.8346e-04 - val_accuracy: 1.0000\n",
      "Epoch 219/250\n",
      "1/1 - 3s - loss: 0.0125 - accuracy: 1.0000 - val_loss: 0.0011 - val_accuracy: 1.0000\n",
      "Epoch 220/250\n",
      "1/1 - 3s - loss: 0.0101 - accuracy: 1.0000 - val_loss: 0.0013 - val_accuracy: 1.0000\n",
      "Epoch 221/250\n",
      "1/1 - 3s - loss: 0.0113 - accuracy: 1.0000 - val_loss: 0.0014 - val_accuracy: 1.0000\n",
      "Epoch 222/250\n",
      "1/1 - 3s - loss: 0.0119 - accuracy: 1.0000 - val_loss: 0.0013 - val_accuracy: 1.0000\n",
      "Epoch 223/250\n",
      "1/1 - 4s - loss: 0.0139 - accuracy: 1.0000 - val_loss: 9.3666e-04 - val_accuracy: 1.0000\n",
      "Epoch 224/250\n",
      "1/1 - 3s - loss: 0.0278 - accuracy: 0.9912 - val_loss: 0.0011 - val_accuracy: 1.0000\n",
      "Epoch 225/250\n",
      "1/1 - 3s - loss: 0.0178 - accuracy: 0.9956 - val_loss: 8.6807e-04 - val_accuracy: 1.0000\n",
      "Epoch 226/250\n",
      "1/1 - 3s - loss: 0.0219 - accuracy: 0.9956 - val_loss: 6.5424e-04 - val_accuracy: 1.0000\n",
      "Epoch 227/250\n",
      "1/1 - 3s - loss: 0.0116 - accuracy: 1.0000 - val_loss: 4.7332e-04 - val_accuracy: 1.0000\n",
      "Epoch 228/250\n",
      "1/1 - 3s - loss: 0.0163 - accuracy: 0.9912 - val_loss: 3.8080e-04 - val_accuracy: 1.0000\n",
      "Epoch 229/250\n",
      "1/1 - 3s - loss: 0.0129 - accuracy: 1.0000 - val_loss: 3.3355e-04 - val_accuracy: 1.0000\n",
      "Epoch 230/250\n",
      "1/1 - 3s - loss: 0.0079 - accuracy: 1.0000 - val_loss: 3.2263e-04 - val_accuracy: 1.0000\n",
      "Epoch 231/250\n",
      "1/1 - 3s - loss: 0.0161 - accuracy: 1.0000 - val_loss: 3.2556e-04 - val_accuracy: 1.0000\n",
      "Epoch 232/250\n",
      "1/1 - 3s - loss: 0.0110 - accuracy: 1.0000 - val_loss: 3.4098e-04 - val_accuracy: 1.0000\n",
      "Epoch 233/250\n",
      "1/1 - 4s - loss: 0.0093 - accuracy: 1.0000 - val_loss: 3.7677e-04 - val_accuracy: 1.0000\n",
      "Epoch 234/250\n",
      "1/1 - 3s - loss: 0.0101 - accuracy: 1.0000 - val_loss: 4.3559e-04 - val_accuracy: 1.0000\n",
      "Epoch 235/250\n",
      "1/1 - 3s - loss: 0.0136 - accuracy: 1.0000 - val_loss: 5.0693e-04 - val_accuracy: 1.0000\n",
      "Epoch 236/250\n",
      "1/1 - 3s - loss: 0.0098 - accuracy: 1.0000 - val_loss: 6.3900e-04 - val_accuracy: 1.0000\n",
      "Epoch 237/250\n",
      "1/1 - 3s - loss: 0.0142 - accuracy: 1.0000 - val_loss: 8.0716e-04 - val_accuracy: 1.0000\n",
      "Epoch 238/250\n",
      "1/1 - 3s - loss: 0.0060 - accuracy: 1.0000 - val_loss: 0.0010 - val_accuracy: 1.0000\n",
      "Epoch 239/250\n",
      "1/1 - 3s - loss: 0.0178 - accuracy: 0.9956 - val_loss: 0.0011 - val_accuracy: 1.0000\n",
      "Epoch 240/250\n",
      "1/1 - 3s - loss: 0.0120 - accuracy: 1.0000 - val_loss: 8.8754e-04 - val_accuracy: 1.0000\n",
      "Epoch 241/250\n",
      "1/1 - 3s - loss: 0.0181 - accuracy: 0.9912 - val_loss: 6.3997e-04 - val_accuracy: 1.0000\n",
      "Epoch 242/250\n",
      "1/1 - 4s - loss: 0.0073 - accuracy: 1.0000 - val_loss: 4.7259e-04 - val_accuracy: 1.0000\n",
      "Epoch 243/250\n",
      "1/1 - 3s - loss: 0.0224 - accuracy: 0.9956 - val_loss: 3.1953e-04 - val_accuracy: 1.0000\n",
      "Epoch 244/250\n",
      "1/1 - 3s - loss: 0.0097 - accuracy: 0.9956 - val_loss: 2.4227e-04 - val_accuracy: 1.0000\n",
      "Epoch 245/250\n",
      "1/1 - 3s - loss: 0.0108 - accuracy: 0.9956 - val_loss: 2.0242e-04 - val_accuracy: 1.0000\n",
      "Epoch 246/250\n",
      "1/1 - 3s - loss: 0.0083 - accuracy: 1.0000 - val_loss: 1.9026e-04 - val_accuracy: 1.0000\n",
      "Epoch 247/250\n",
      "1/1 - 3s - loss: 0.0131 - accuracy: 1.0000 - val_loss: 1.7935e-04 - val_accuracy: 1.0000\n",
      "Epoch 248/250\n",
      "1/1 - 3s - loss: 0.0143 - accuracy: 1.0000 - val_loss: 1.6715e-04 - val_accuracy: 1.0000\n",
      "Epoch 249/250\n",
      "1/1 - 3s - loss: 0.0145 - accuracy: 1.0000 - val_loss: 1.7407e-04 - val_accuracy: 1.0000\n",
      "Epoch 250/250\n",
      "1/1 - 3s - loss: 0.0050 - accuracy: 1.0000 - val_loss: 2.1116e-04 - val_accuracy: 1.0000\n"
     ]
    }
   ],
   "source": [
    "history=cnn_model.fit(\n",
    "    np.array(x_train), np.array(y_train), batch_size=512,\n",
    "    epochs=250, verbose=2,\n",
    "    validation_data=(np.array(x_valid),np.array(y_valid)),\n",
    ")"
   ]
  },
  {
   "cell_type": "markdown",
   "id": "3f8dc232",
   "metadata": {
    "_cell_guid": "de697d30-38fb-42c8-8698-ac3dadae9e8f",
    "_uuid": "2233c1cc-fb8e-4b61-b398-0180aa71e6dc",
    "papermill": {
     "duration": 0.123437,
     "end_time": "2021-07-26T18:34:02.283870",
     "exception": false,
     "start_time": "2021-07-26T18:34:02.160433",
     "status": "completed"
    },
    "tags": []
   },
   "source": [
    "Evaluate the test data"
   ]
  },
  {
   "cell_type": "code",
   "execution_count": 8,
   "id": "6c8da2ce",
   "metadata": {
    "_cell_guid": "b85f156e-76e1-4988-8893-09a740dc914f",
    "_uuid": "dbc31cfa-f5df-45a7-8bd3-a7eac886bb0c",
    "execution": {
     "iopub.execute_input": "2021-07-26T18:34:02.539207Z",
     "iopub.status.busy": "2021-07-26T18:34:02.538541Z",
     "iopub.status.idle": "2021-07-26T18:34:03.275675Z",
     "shell.execute_reply": "2021-07-26T18:34:03.275115Z",
     "shell.execute_reply.started": "2021-07-26T18:11:09.166773Z"
    },
    "jupyter": {
     "outputs_hidden": false
    },
    "papermill": {
     "duration": 0.865978,
     "end_time": "2021-07-26T18:34:03.275862",
     "exception": false,
     "start_time": "2021-07-26T18:34:02.409884",
     "status": "completed"
    },
    "tags": []
   },
   "outputs": [
    {
     "name": "stdout",
     "output_type": "stream",
     "text": [
      "test los 0.3272\n",
      "test acc 0.9375\n"
     ]
    }
   ],
   "source": [
    "scor = cnn_model.evaluate( np.array(x_test),  np.array(y_test), verbose=0)\n",
    "\n",
    "print('test los {:.4f}'.format(scor[0]))\n",
    "print('test acc {:.4f}'.format(scor[1]))"
   ]
  },
  {
   "cell_type": "markdown",
   "id": "0649a90d",
   "metadata": {
    "_cell_guid": "2e94d1e5-f5b7-40dc-9f9d-c309dc268f0f",
    "_uuid": "65df95eb-7645-4853-bbb6-65a6a6309e08",
    "papermill": {
     "duration": 0.122372,
     "end_time": "2021-07-26T18:34:03.524533",
     "exception": false,
     "start_time": "2021-07-26T18:34:03.402161",
     "status": "completed"
    },
    "tags": []
   },
   "source": [
    "# Step 7\n",
    "plot the result"
   ]
  },
  {
   "cell_type": "code",
   "execution_count": 9,
   "id": "fa472448",
   "metadata": {
    "_cell_guid": "9b616eb7-52c0-4358-ba00-1aff8fc9ee76",
    "_uuid": "01728252-934b-4e0b-81b1-d3bd4a8fddb6",
    "execution": {
     "iopub.execute_input": "2021-07-26T18:34:03.791135Z",
     "iopub.status.busy": "2021-07-26T18:34:03.776471Z",
     "iopub.status.idle": "2021-07-26T18:34:04.095489Z",
     "shell.execute_reply": "2021-07-26T18:34:04.095975Z",
     "shell.execute_reply.started": "2021-07-26T18:11:10.097378Z"
    },
    "jupyter": {
     "outputs_hidden": false
    },
    "papermill": {
     "duration": 0.449016,
     "end_time": "2021-07-26T18:34:04.096145",
     "exception": false,
     "start_time": "2021-07-26T18:34:03.647129",
     "status": "completed"
    },
    "tags": []
   },
   "outputs": [
    {
     "name": "stdout",
     "output_type": "stream",
     "text": [
      "dict_keys(['loss', 'accuracy', 'val_loss', 'val_accuracy'])\n"
     ]
    },
    {
     "data": {
      "image/png": "[encoded data removed]",
      "text/plain": [
       "<Figure size 432x288 with 1 Axes>"
      ]
     },
     "metadata": {
      "needs_background": "light"
     },
     "output_type": "display_data"
    },
    {
     "data": {
      "image/png": "[encoded data removed]",
      "text/plain": [
       "<Figure size 432x288 with 1 Axes>"
      ]
     },
     "metadata": {
      "needs_background": "light"
     },
     "output_type": "display_data"
    }
   ],
   "source": [
    "# list all data in history\n",
    "print(history.history.keys())\n",
    "# summarize history for accuracy\n",
    "plt.plot(history.history['accuracy'])\n",
    "plt.plot(history.history['val_accuracy'])\n",
    "plt.title('model accuracy')\n",
    "plt.ylabel('accuracy')\n",
    "plt.xlabel('epoch')\n",
    "plt.legend(['train', 'test'], loc='upper left')\n",
    "plt.show()\n",
    "# summarize history for loss\n",
    "plt.plot(history.history['loss'])\n",
    "plt.plot(history.history['val_loss'])\n",
    "plt.title('model loss')\n",
    "plt.ylabel('loss')\n",
    "plt.xlabel('epoch')\n",
    "plt.legend(['train', 'test'], loc='upper left')\n",
    "plt.show()"
   ]
  },
  {
   "cell_type": "markdown",
   "id": "ce90a72b",
   "metadata": {
    "_cell_guid": "78806a88-b4fd-4d43-8188-0cdfd8b32756",
    "_uuid": "2d30340a-ae5b-4b07-b1d9-98dd9963d75a",
    "papermill": {
     "duration": 0.127996,
     "end_time": "2021-07-26T18:34:04.350356",
     "exception": false,
     "start_time": "2021-07-26T18:34:04.222360",
     "status": "completed"
    },
    "tags": []
   },
   "source": [
    "# step 8\n",
    "Plot Confusion Matrix"
   ]
  },
  {
   "cell_type": "code",
   "execution_count": 10,
   "id": "5e637716",
   "metadata": {
    "_cell_guid": "0610f75b-2cdc-488c-97bb-ac5563ee0cf7",
    "_uuid": "b1baa82b-35f5-4f3c-ac14-8e42ef977ca4",
    "execution": {
     "iopub.execute_input": "2021-07-26T18:34:04.621517Z",
     "iopub.status.busy": "2021-07-26T18:34:04.620012Z",
     "iopub.status.idle": "2021-07-26T18:34:07.203564Z",
     "shell.execute_reply": "2021-07-26T18:34:07.203022Z",
     "shell.execute_reply.started": "2021-07-26T18:11:10.449545Z"
    },
    "jupyter": {
     "outputs_hidden": false
    },
    "papermill": {
     "duration": 2.724176,
     "end_time": "2021-07-26T18:34:07.203703",
     "exception": false,
     "start_time": "2021-07-26T18:34:04.479527",
     "status": "completed"
    },
    "tags": []
   },
   "outputs": [
    {
     "name": "stderr",
     "output_type": "stream",
     "text": [
      "/opt/conda/lib/python3.7/site-packages/tensorflow/python/keras/engine/sequential.py:450: UserWarning: `model.predict_classes()` is deprecated and will be removed after 2021-01-01. Please use instead:* `np.argmax(model.predict(x), axis=-1)`,   if your model does multi-class classification   (e.g. if it uses a `softmax` last-layer activation).* `(model.predict(x) > 0.5).astype(\"int32\")`,   if your model does binary classification   (e.g. if it uses a `sigmoid` last-layer activation).\n",
      "  warnings.warn('`model.predict_classes()` is deprecated and '\n"
     ]
    },
    {
     "name": "stdout",
     "output_type": "stream",
     "text": [
      "accuracy : \n",
      "0.9375\n",
      "Confusion matrix, without normalization\n",
      "[[8 0 0 0 0 0 0 0 0 0 0 0 0 0 0 0 0 0 0 0]\n",
      " [0 8 0 0 0 0 0 0 0 0 0 0 0 0 0 0 0 0 0 0]\n",
      " [0 0 8 0 0 0 0 0 0 0 0 0 0 0 0 0 0 0 0 0]\n",
      " [0 0 0 8 0 0 0 0 0 0 0 0 0 0 0 0 0 0 0 0]\n",
      " [0 0 0 0 6 0 0 0 0 0 0 0 0 0 0 0 0 2 0 0]\n",
      " [0 0 0 0 0 8 0 0 0 0 0 0 0 0 0 0 0 0 0 0]\n",
      " [0 0 0 0 0 0 8 0 0 0 0 0 0 0 0 0 0 0 0 0]\n",
      " [0 0 0 0 0 0 0 8 0 0 0 0 0 0 0 0 0 0 0 0]\n",
      " [0 0 0 0 0 0 0 0 8 0 0 0 0 0 0 0 0 0 0 0]\n",
      " [0 0 0 0 0 0 0 2 0 6 0 0 0 0 0 0 0 0 0 0]\n",
      " [0 0 0 0 0 0 0 0 0 0 8 0 0 0 0 0 0 0 0 0]\n",
      " [0 0 0 0 0 0 0 0 0 0 0 8 0 0 0 0 0 0 0 0]\n",
      " [0 0 0 0 0 0 0 0 0 0 0 0 8 0 0 0 0 0 0 0]\n",
      " [0 0 0 0 0 0 0 0 0 0 0 0 0 8 0 0 0 0 0 0]\n",
      " [0 0 0 0 0 0 0 0 0 0 0 0 0 0 8 0 0 0 0 0]\n",
      " [2 0 0 0 0 0 0 0 0 0 0 0 2 0 0 4 0 0 0 0]\n",
      " [0 0 0 0 0 0 0 0 0 0 0 0 0 0 0 0 8 0 0 0]\n",
      " [0 0 0 0 0 0 0 0 0 0 0 0 0 0 0 0 0 8 0 0]\n",
      " [0 0 0 0 0 0 0 2 0 0 0 0 0 0 0 0 0 0 6 0]\n",
      " [0 0 0 0 0 0 0 0 0 0 0 0 0 0 0 0 0 0 0 8]]\n",
      "Confusion matrix, without normalization\n"
     ]
    },
    {
     "data": {
      "image/png": "[encoded data removed]",
      "text/plain": [
       "<Figure size 432x288 with 2 Axes>"
      ]
     },
     "metadata": {
      "needs_background": "light"
     },
     "output_type": "display_data"
    },
    {
     "name": "stdout",
     "output_type": "stream",
     "text": [
      "Confusion matrix, without normalization\n"
     ]
    },
    {
     "data": {
      "image/png": "[encoded data removed]",
      "text/plain": [
       "<Figure size 432x288 with 2 Axes>"
      ]
     },
     "metadata": {
      "needs_background": "light"
     },
     "output_type": "display_data"
    },
    {
     "name": "stdout",
     "output_type": "stream",
     "text": [
      "Confusion matrix:\n",
      "[[8 0 0 0 0 0 0 0 0 0 0 0 0 0 0 0 0 0 0 0]\n",
      " [0 8 0 0 0 0 0 0 0 0 0 0 0 0 0 0 0 0 0 0]\n",
      " [0 0 8 0 0 0 0 0 0 0 0 0 0 0 0 0 0 0 0 0]\n",
      " [0 0 0 8 0 0 0 0 0 0 0 0 0 0 0 0 0 0 0 0]\n",
      " [0 0 0 0 6 0 0 0 0 0 0 0 0 0 0 0 0 2 0 0]\n",
      " [0 0 0 0 0 8 0 0 0 0 0 0 0 0 0 0 0 0 0 0]\n",
      " [0 0 0 0 0 0 8 0 0 0 0 0 0 0 0 0 0 0 0 0]\n",
      " [0 0 0 0 0 0 0 8 0 0 0 0 0 0 0 0 0 0 0 0]\n",
      " [0 0 0 0 0 0 0 0 8 0 0 0 0 0 0 0 0 0 0 0]\n",
      " [0 0 0 0 0 0 0 2 0 6 0 0 0 0 0 0 0 0 0 0]\n",
      " [0 0 0 0 0 0 0 0 0 0 8 0 0 0 0 0 0 0 0 0]\n",
      " [0 0 0 0 0 0 0 0 0 0 0 8 0 0 0 0 0 0 0 0]\n",
      " [0 0 0 0 0 0 0 0 0 0 0 0 8 0 0 0 0 0 0 0]\n",
      " [0 0 0 0 0 0 0 0 0 0 0 0 0 8 0 0 0 0 0 0]\n",
      " [0 0 0 0 0 0 0 0 0 0 0 0 0 0 8 0 0 0 0 0]\n",
      " [2 0 0 0 0 0 0 0 0 0 0 0 2 0 0 4 0 0 0 0]\n",
      " [0 0 0 0 0 0 0 0 0 0 0 0 0 0 0 0 8 0 0 0]\n",
      " [0 0 0 0 0 0 0 0 0 0 0 0 0 0 0 0 0 8 0 0]\n",
      " [0 0 0 0 0 0 0 2 0 0 0 0 0 0 0 0 0 0 6 0]\n",
      " [0 0 0 0 0 0 0 0 0 0 0 0 0 0 0 0 0 0 0 8]]\n",
      "              precision    recall  f1-score   support\n",
      "\n",
      "           0       0.80      1.00      0.89         8\n",
      "           1       1.00      1.00      1.00         8\n",
      "           2       1.00      1.00      1.00         8\n",
      "           3       1.00      1.00      1.00         8\n",
      "           4       1.00      0.75      0.86         8\n",
      "           5       1.00      1.00      1.00         8\n",
      "           6       1.00      1.00      1.00         8\n",
      "           7       0.67      1.00      0.80         8\n",
      "           8       1.00      1.00      1.00         8\n",
      "           9       1.00      0.75      0.86         8\n",
      "          10       1.00      1.00      1.00         8\n",
      "          11       1.00      1.00      1.00         8\n",
      "          12       0.80      1.00      0.89         8\n",
      "          13       1.00      1.00      1.00         8\n",
      "          14       1.00      1.00      1.00         8\n",
      "          15       1.00      0.50      0.67         8\n",
      "          16       1.00      1.00      1.00         8\n",
      "          17       0.80      1.00      0.89         8\n",
      "          18       1.00      0.75      0.86         8\n",
      "          19       1.00      1.00      1.00         8\n",
      "\n",
      "    accuracy                           0.94       160\n",
      "   macro avg       0.95      0.94      0.94       160\n",
      "weighted avg       0.95      0.94      0.94       160\n",
      "\n"
     ]
    }
   ],
   "source": [
    "predicted =np.argmax(cnn_model.predict(x_test), axis=-1)\n",
    "\n",
    "#print(predicted)\n",
    "#print(y_test)\n",
    "ynew = cnn_model.predict_classes(x_test)\n",
    "\n",
    "\n",
    "Acc=accuracy_score(y_test, ynew)\n",
    "print(\"accuracy : \")\n",
    "print(Acc)\n",
    "#/tn, fp, fn, tp = confusion_matrix(np.array(y_test), ynew).ravel()\n",
    "cnf_matrix=confusion_matrix(np.array(y_test), ynew)\n",
    "\n",
    "y_test1 = np_utils.to_categorical(y_test, 20)\n",
    "\n",
    "\n",
    "\n",
    "def plot_confusion_matrix(cm, classes,\n",
    "                          normalize=False,\n",
    "                          title='Confusion matrix',\n",
    "                          cmap=plt.cm.Blues):\n",
    "    \"\"\"\n",
    "    This function prints and plots the confusion matrix.\n",
    "    Normalization can be applied by setting `normalize=True`.\n",
    "    \"\"\"\n",
    "    if normalize:\n",
    "        cm = cm.astype('float') / cm.sum(axis=1)[:, np.newaxis]\n",
    "        #print(\"Normalized confusion matrix\")\n",
    "    else:\n",
    "        print('Confusion matrix, without normalization')\n",
    "\n",
    "    #print(cm)\n",
    "    plt.imshow(cm, interpolation='nearest', cmap=cmap)\n",
    "    plt.title(title)\n",
    "    plt.colorbar()\n",
    "    tick_marks = np.arange(len(classes))\n",
    "    plt.xticks(tick_marks, classes, rotation=45)\n",
    "    plt.yticks(tick_marks, classes)\n",
    "\n",
    "    fmt = '.2f' if normalize else 'd'\n",
    "    thresh = cm.max() / 2.\n",
    "    for i, j in itertools.product(range(cm.shape[0]), range(cm.shape[1])):\n",
    "        plt.text(j, i, format(cm[i, j], fmt),\n",
    "                 horizontalalignment=\"center\",\n",
    "                 color=\"white\" if cm[i, j] > thresh else \"black\")\n",
    "\n",
    "    plt.tight_layout()\n",
    "    plt.ylabel('True label')\n",
    "    plt.xlabel('Predicted label')\n",
    "    plt.show()\n",
    "\n",
    "\n",
    "print('Confusion matrix, without normalization')\n",
    "print(cnf_matrix)\n",
    "\n",
    "plt.figure()\n",
    "plot_confusion_matrix(cnf_matrix[1:10,1:10], classes=[0,1,2,3,4,5,6,7,8,9],\n",
    "                      title='Confusion matrix, without normalization')\n",
    "\n",
    "plt.figure()\n",
    "plot_confusion_matrix(cnf_matrix[11:20,11:20], classes=[10,11,12,13,14,15,16,17,18,19],\n",
    "                      title='Confusion matrix, without normalization')\n",
    "\n",
    "print(\"Confusion matrix:\\n%s\" % confusion_matrix(np.array(y_test), ynew))\n",
    "print(classification_report(np.array(y_test), ynew))"
   ]
  },
  {
   "cell_type": "markdown",
   "id": "b90f7659",
   "metadata": {
    "_cell_guid": "a7d5cf42-6ff5-4514-9093-83654ef0eb36",
    "_uuid": "865b4eba-0991-4049-9db3-98132dd7f174",
    "papermill": {
     "duration": 0.13048,
     "end_time": "2021-07-26T18:34:07.466624",
     "exception": false,
     "start_time": "2021-07-26T18:34:07.336144",
     "status": "completed"
    },
    "tags": []
   },
   "source": []
  }
 ],
 "metadata": {
  "kernelspec": {
   "display_name": "Python 3 (ipykernel)",
   "language": "python",
   "name": "python3"
  },
  "language_info": {
   "codemirror_mode": {
    "name": "ipython",
    "version": 3
   },
   "file_extension": ".py",
   "mimetype": "text/x-python",
   "name": "python",
   "nbconvert_exporter": "python",
   "pygments_lexer": "ipython3",
   "version": "3.9.7"
  },
  "papermill": {
   "default_parameters": {},
   "duration": 879.227028,
   "end_time": "2021-07-26T18:34:09.191172",
   "environment_variables": {},
   "exception": null,
   "input_path": "__notebook__.ipynb",
   "output_path": "__notebook__.ipynb",
   "parameters": {},
   "start_time": "2021-07-26T18:19:29.964144",
   "version": "2.3.3"
  }
 },
 "nbformat": 4,
 "nbformat_minor": 5
}
